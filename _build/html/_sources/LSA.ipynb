{
  "cells": [
    {
      "cell_type": "markdown",
      "metadata": {
        "_uuid": "9341bf79ac503efb2b0c19cae84b17b48c30e211",
        "id": "fuPOaKbJKHdm"
      },
      "source": [
        "## Topic Modelling pada Web Mining"
      ]
    },
    {
      "cell_type": "markdown",
      "source": [
        "Langkah-langkah:\n",
        "\n",
        "\n",
        "1.   Crawling data\n",
        "2.   Preprocessing data (Cleansing data dan stopword)\n",
        "3.   Modelling LSA\n"
      ],
      "metadata": {
        "id": "HNu3u9PWFUwx"
      }
    },
    {
      "cell_type": "markdown",
      "source": [
        "### 1. Pengertian Web Mining"
      ],
      "metadata": {
        "id": "_2MdFXu_DgKQ"
      }
    },
    {
      "cell_type": "markdown",
      "metadata": {
        "_uuid": "3f9de996a68ce9d21cb302f795a0c8f667784879",
        "id": "yvSNjaAuKHdt"
      },
      "source": [
        "**Web Content Mining** merupakan suatu proses otomatis untuk menemukan\n",
        "informasi yang berguna dari dokumen atau data. Pada prinsipnya teknik ini mengekstraksi kata kunci yang terkandung pada dokumen. Teknik Web Content Mining berfokus pada penggalian informasi dari isi (content) yang ada pada sebuah web, seperti teks, gambar, audio, video, metadata dan hyperlink. Ada dua strategi yang umum digunakan:\n",
        "\n",
        "1.   Langsung melakukan mining terhadap data\n",
        "2.   Melakukan pencarian serta mengimprove hasil pencarian seperti layaknya search engine (Srivastava et al, 2000).\n",
        "\n",
        "\n",
        "Web Content Mining juga dapat disebut sebagai Web Text Mining yang dalam implementasi biasanya penggalian data terletak pada daerah teks. Teknik ini juga lebih banyak berhubungan dengan disiplin information retrieval (IR), tetapi dengan inovasi yang terus menerus dan seiring dengan perkembangan dunia teknologi informasi, secara dramatis akan meningkatkan akurasi dalam analisis dan mampu menghemat biaya (Hermanto dan Sartono, _). "
      ]
    },
    {
      "cell_type": "markdown",
      "metadata": {
        "_uuid": "827e42f1d6fbd87d0858fd90555a280782a2ed73",
        "id": "K6V3NidFKHdu"
      },
      "source": [
        "### 2. Pengertian Data Crawling"
      ]
    },
    {
      "cell_type": "markdown",
      "source": [
        "**Data Crawling** merupakan proses pengumpulan data sekunder yang mampu memilah informasi secara cepat dan otomatis tanpa ada reduplikasi data. Proses ini memiliki kaitan dengan data scraping. Begitu semua data telah terkumpul melalui crawling, data scraping akan mengeksekusinya.\n",
        "\n",
        "Dataset yang digunakan adalah hasil crawling data pada **Portal Tugas Akhir Universitas Trunojoyo Madura**. Dapat diakses melalui link https://pta.trunojoyo.ac.id/.\n",
        "\n",
        "Berikut adalah kode program untuk proses crawling data yang menghasilkan sejumlah 93 data. Dengan rincian terdapat 7 kolom yaitu kolom Judul, Penulis, Pembimbing 1, Pembimbing 2, abstrak, Kata Kunci dan Label. Untuk pelabelan dilakukan secara manual.\n",
        "\n",
        "Untuk video tutorialnya dapat diakses pada link Youtube berikut https://youtu.be/uDeoJtYMbEU."
      ],
      "metadata": {
        "id": "NT2bbA_HEeIj"
      }
    },
    {
      "cell_type": "markdown",
      "source": [
        "### 3. Preprocessing Data"
      ],
      "metadata": {
        "id": "rjgD6fTuIZEO"
      }
    },
    {
      "cell_type": "markdown",
      "source": [
        "**Data preprocessing** merupakan proses yang mengubah data mentah ke dalam bentuk yang lebih mudah dipahami. Proses ini penting dilakukan karena data mentah sering kali tidak memiliki format yang teratur. Selain itu, data mining juga tidak dapat memproses data mentah, sehingga proses ini sangat penting dilakukan untuk mempermudah proses berikutnya, yakni analisis data.\n",
        "\n",
        "Langkah-langkah preprocessing data:\n",
        "\n",
        "1.   Cleansing data\n",
        "2.   Stopword\n",
        "\n"
      ],
      "metadata": {
        "id": "uX-MWMq-IjUU"
      }
    },
    {
      "cell_type": "markdown",
      "metadata": {
        "_uuid": "6a503c2851673a3d3ec1eb2c3d6c6e5566292af1",
        "id": "o_q4rTvRKHdv"
      },
      "source": [
        "#### 1. Import Module"
      ]
    },
    {
      "cell_type": "code",
      "execution_count": 11,
      "metadata": {
        "colab": {
          "base_uri": "https://localhost:8080/"
        },
        "id": "JAUODiJVKHdw",
        "outputId": "a5111ac8-5531-4dc7-f47e-ae47ddfde6ef"
      },
      "outputs": [
        {
          "output_type": "stream",
          "name": "stdout",
          "text": [
            "Looking in indexes: https://pypi.org/simple, https://us-python.pkg.dev/colab-wheels/public/simple/\n",
            "Requirement already satisfied: seaborn in /usr/local/lib/python3.7/dist-packages (0.11.2)\n",
            "Requirement already satisfied: scipy>=1.0 in /usr/local/lib/python3.7/dist-packages (from seaborn) (1.4.1)\n",
            "Requirement already satisfied: numpy>=1.15 in /usr/local/lib/python3.7/dist-packages (from seaborn) (1.21.6)\n",
            "Requirement already satisfied: pandas>=0.23 in /usr/local/lib/python3.7/dist-packages (from seaborn) (1.3.5)\n",
            "Requirement already satisfied: matplotlib>=2.2 in /usr/local/lib/python3.7/dist-packages (from seaborn) (3.2.2)\n",
            "Requirement already satisfied: pyparsing!=2.0.4,!=2.1.2,!=2.1.6,>=2.0.1 in /usr/local/lib/python3.7/dist-packages (from matplotlib>=2.2->seaborn) (3.0.9)\n",
            "Requirement already satisfied: cycler>=0.10 in /usr/local/lib/python3.7/dist-packages (from matplotlib>=2.2->seaborn) (0.11.0)\n",
            "Requirement already satisfied: python-dateutil>=2.1 in /usr/local/lib/python3.7/dist-packages (from matplotlib>=2.2->seaborn) (2.8.2)\n",
            "Requirement already satisfied: kiwisolver>=1.0.1 in /usr/local/lib/python3.7/dist-packages (from matplotlib>=2.2->seaborn) (1.4.2)\n",
            "Requirement already satisfied: typing-extensions in /usr/local/lib/python3.7/dist-packages (from kiwisolver>=1.0.1->matplotlib>=2.2->seaborn) (4.2.0)\n",
            "Requirement already satisfied: pytz>=2017.3 in /usr/local/lib/python3.7/dist-packages (from pandas>=0.23->seaborn) (2022.1)\n",
            "Requirement already satisfied: six>=1.5 in /usr/local/lib/python3.7/dist-packages (from python-dateutil>=2.1->matplotlib>=2.2->seaborn) (1.15.0)\n"
          ]
        }
      ],
      "source": [
        "! pip install seaborn"
      ]
    },
    {
      "cell_type": "code",
      "execution_count": 12,
      "metadata": {
        "_uuid": "39f140e85d319161012fb67f258dd6b339545b0a",
        "id": "5O5_-2kTGD6V",
        "colab": {
          "base_uri": "https://localhost:8080/"
        },
        "outputId": "27aacc21-d1f0-4ad1-da7b-47008e4ebd10"
      },
      "outputs": [
        {
          "output_type": "stream",
          "name": "stderr",
          "text": [
            "[nltk_data] Downloading package stopwords to /root/nltk_data...\n",
            "[nltk_data]   Package stopwords is already up-to-date!\n"
          ]
        }
      ],
      "source": [
        "# data visualisation and manipulation\n",
        "import numpy as np\n",
        "import pandas as pd\n",
        "import matplotlib.pyplot as plt\n",
        "from matplotlib import style\n",
        "import seaborn as sns\n",
        "import nltk\n",
        "nltk.download('stopwords')\n",
        "#configure\n",
        "# sets matplotlib to inline and displays graphs below the corressponding cell.\n",
        "%matplotlib inline  \n",
        "style.use('fivethirtyeight')\n",
        "sns.set(style='whitegrid',color_codes=True)\n",
        "\n",
        "#import nltk\n",
        "import nltk\n",
        "from nltk.corpus import stopwords\n",
        "from nltk.tokenize import word_tokenize,sent_tokenize\n",
        "\n",
        "#preprocessing\n",
        "from nltk.corpus import stopwords  #stopwords\n",
        "from nltk import word_tokenize,sent_tokenize # tokenizing\n",
        "from nltk.stem import PorterStemmer,LancasterStemmer  # using the Porter Stemmer and Lancaster Stemmer and others\n",
        "from nltk.stem.snowball import SnowballStemmer\n",
        "from nltk.stem import WordNetLemmatizer  # lammatizer from WordNet\n",
        "\n",
        "# for named entity recognition (NER)\n",
        "from nltk import ne_chunk\n",
        "\n",
        "# vectorizers for creating the document-term-matrix (DTM)\n",
        "from sklearn.feature_extraction.text import TfidfVectorizer,CountVectorizer\n",
        "\n",
        "#stop-words\n",
        "stop_words=set(nltk.corpus.stopwords.words('indonesian'))"
      ]
    },
    {
      "cell_type": "markdown",
      "metadata": {
        "_uuid": "a2b520342f1761de78285e76aa6327d9d37b1f4e",
        "id": "3ouo9M1tKHd1"
      },
      "source": [
        "#### 2. Memuat Dataset"
      ]
    },
    {
      "cell_type": "code",
      "execution_count": 13,
      "metadata": {
        "_uuid": "aad495ed355e99947bc3b9816cfad0ff430c17e5",
        "id": "xaPWCpthHVIS"
      },
      "outputs": [],
      "source": [
        "df=pd.read_csv(\"dataset.csv\")"
      ]
    },
    {
      "cell_type": "code",
      "execution_count": 14,
      "metadata": {
        "_uuid": "e09dd69ffa2bae1920f3e10b1af0a8ce0f8ae16d",
        "id": "Wwf4uKjTIYm2",
        "colab": {
          "base_uri": "https://localhost:8080/",
          "height": 641
        },
        "outputId": "a1a000fa-5dc4-4b66-92da-7999104e5301"
      },
      "outputs": [
        {
          "output_type": "execute_result",
          "data": {
            "text/plain": [
              "                                                Judul                Penulis  \\\n",
              "0   SISTEM PENENTUAN STATUS GIZI PASIEN RAWAT INAP...          Nur Anggraeni   \n",
              "1   SISTEM AUGMENTED REALITY ANIMASI BENDA BERGERA...   Septian Rahman Hakim   \n",
              "2   APLIKASI KONTROL DAN MONITORING JARINGAN KOMPU...     M. Basith Ardianto   \n",
              "3   RANCANG BANGUN APLIKASI PROXY SERVER UNTUK ENK...  Akhmad Suyandi, S.Kom   \n",
              "4   SISTEM INFORMASI PERUSAHAAN OTOBUS SUMBER KENC...   Elky Lilik Misdayani   \n",
              "..                                                ...                    ...   \n",
              "87  PENGENALAN TULISAN TANGAN HURUF ALFABET DENGAN...        Hilyati Safitri   \n",
              "88  Perancangan Sistem Informasi Badan Kepegawaian...         MALIKUL HAMZAH   \n",
              "89  RANCANG BANGUN APLIKASI PEMILIHAN TEKNIK REKAY...          Lia Fransiska   \n",
              "90  DETEKSI COREPOINT SIDIK JARI MENGGUNAKAN METOD...         Erwina Safitri   \n",
              "91  SISTEM PENDUKUNG KEPUTUSAN REKOMENDASI MENU DI...    Desy Mariana S. Kom   \n",
              "\n",
              "                           Pembimbing 1                         Pembimbing 2  \\\n",
              "0               Diana Rahmawati, ST.M.T              Firli Irhamni, ST.M.Kom   \n",
              "1         Arik Kurniawati, S.Kom., M.T.                 Haryanto, S.T., M.T.   \n",
              "2                 Drs. Budi Soesilo, MT                        Koko Joni, ST   \n",
              "3                Drs. Budi Soesilo, M.T                     Hermawan, ST, MT   \n",
              "4           Fitri Damayanti,S.Kom,M.Kom                                    -   \n",
              "..                                  ...                                  ...   \n",
              "87        Fitri Damayanti S.Kom., M.Kom  Kurniawan Eka Permana S.Kom., M.Sc.   \n",
              "88  Moch. Kautsar Sophan, S.Kom., M.MT.  Yeni Kustiyaningsih, S.Kom., M.Kom.   \n",
              "89             Firli Irhamni S.T, M.Kom           Budi Dwi Satoto S.T, M.Kom   \n",
              "90    Dr. Indah Agustien, S.Kom., M.Kom       Fitri Damayanti, S.Kom., M.Kom   \n",
              "91                      Haryanto ST, MT             Firli Irhamni ST, M. Kom   \n",
              "\n",
              "                                              abstrak  \\\n",
              "0   Di Indonesia masalah perkembangan gizi adalah ...   \n",
              "1   Seiring perkembangan teknologi yang ada diduni...   \n",
              "2   Berjalannya koneksi jaringan komputer dengan l...   \n",
              "3   Web server adalah sebuah perangkat lunak serve...   \n",
              "4   Sistem informasi pengolahan data yang dibutuhk...   \n",
              "..                                                ...   \n",
              "87  Pengenalan tulisan tangan merupakan topik pene...   \n",
              "88  Kantor Badan Kepegawaian kota Bangkalan adalah...   \n",
              "89  Penyusunan Sistem Pendukung Keputusan pemiliha...   \n",
              "90  Sidik jari adalah salah satu karakteristik fis...   \n",
              "91  Pelayanan makanan bagi pasien rawat inap di Ru...   \n",
              "\n",
              "                                           Kata Kunci Label  \n",
              "0   Naïve Bayes Classifier, Sistem Pendukung Keput...   RPL  \n",
              "1                                                   -   CAI  \n",
              "2          Algoritma Genetika, Optimasi,  Penjadwalan   RPL  \n",
              "3                                                   -   CAI  \n",
              "4                                                   -   RPL  \n",
              "..                                                ...   ...  \n",
              "87  Tulisan Tangan, Modified Direction Feature, Le...   CAI  \n",
              "88  Arsitektur interprise, TOGAF ADM, Arsitektur b...   RPL  \n",
              "89  Sistem Pendukung Keputusan, Teknik Rekayasa Ke...   RPL  \n",
              "90  Sidik jari, Corepoint, Geometry Of Region Tech...   CAI  \n",
              "91  Sistem Pendukung Keputusan, Harris Benedict da...   RPL  \n",
              "\n",
              "[92 rows x 7 columns]"
            ],
            "text/html": [
              "\n",
              "  <div id=\"df-26e6dc75-27f4-492d-9980-12351d387b6f\">\n",
              "    <div class=\"colab-df-container\">\n",
              "      <div>\n",
              "<style scoped>\n",
              "    .dataframe tbody tr th:only-of-type {\n",
              "        vertical-align: middle;\n",
              "    }\n",
              "\n",
              "    .dataframe tbody tr th {\n",
              "        vertical-align: top;\n",
              "    }\n",
              "\n",
              "    .dataframe thead th {\n",
              "        text-align: right;\n",
              "    }\n",
              "</style>\n",
              "<table border=\"1\" class=\"dataframe\">\n",
              "  <thead>\n",
              "    <tr style=\"text-align: right;\">\n",
              "      <th></th>\n",
              "      <th>Judul</th>\n",
              "      <th>Penulis</th>\n",
              "      <th>Pembimbing 1</th>\n",
              "      <th>Pembimbing 2</th>\n",
              "      <th>abstrak</th>\n",
              "      <th>Kata Kunci</th>\n",
              "      <th>Label</th>\n",
              "    </tr>\n",
              "  </thead>\n",
              "  <tbody>\n",
              "    <tr>\n",
              "      <th>0</th>\n",
              "      <td>SISTEM PENENTUAN STATUS GIZI PASIEN RAWAT INAP...</td>\n",
              "      <td>Nur Anggraeni</td>\n",
              "      <td>Diana Rahmawati, ST.M.T</td>\n",
              "      <td>Firli Irhamni, ST.M.Kom</td>\n",
              "      <td>Di Indonesia masalah perkembangan gizi adalah ...</td>\n",
              "      <td>Naïve Bayes Classifier, Sistem Pendukung Keput...</td>\n",
              "      <td>RPL</td>\n",
              "    </tr>\n",
              "    <tr>\n",
              "      <th>1</th>\n",
              "      <td>SISTEM AUGMENTED REALITY ANIMASI BENDA BERGERA...</td>\n",
              "      <td>Septian Rahman Hakim</td>\n",
              "      <td>Arik Kurniawati, S.Kom., M.T.</td>\n",
              "      <td>Haryanto, S.T., M.T.</td>\n",
              "      <td>Seiring perkembangan teknologi yang ada diduni...</td>\n",
              "      <td>-</td>\n",
              "      <td>CAI</td>\n",
              "    </tr>\n",
              "    <tr>\n",
              "      <th>2</th>\n",
              "      <td>APLIKASI KONTROL DAN MONITORING JARINGAN KOMPU...</td>\n",
              "      <td>M. Basith Ardianto</td>\n",
              "      <td>Drs. Budi Soesilo, MT</td>\n",
              "      <td>Koko Joni, ST</td>\n",
              "      <td>Berjalannya koneksi jaringan komputer dengan l...</td>\n",
              "      <td>Algoritma Genetika, Optimasi,  Penjadwalan</td>\n",
              "      <td>RPL</td>\n",
              "    </tr>\n",
              "    <tr>\n",
              "      <th>3</th>\n",
              "      <td>RANCANG BANGUN APLIKASI PROXY SERVER UNTUK ENK...</td>\n",
              "      <td>Akhmad Suyandi, S.Kom</td>\n",
              "      <td>Drs. Budi Soesilo, M.T</td>\n",
              "      <td>Hermawan, ST, MT</td>\n",
              "      <td>Web server adalah sebuah perangkat lunak serve...</td>\n",
              "      <td>-</td>\n",
              "      <td>CAI</td>\n",
              "    </tr>\n",
              "    <tr>\n",
              "      <th>4</th>\n",
              "      <td>SISTEM INFORMASI PERUSAHAAN OTOBUS SUMBER KENC...</td>\n",
              "      <td>Elky Lilik Misdayani</td>\n",
              "      <td>Fitri Damayanti,S.Kom,M.Kom</td>\n",
              "      <td>-</td>\n",
              "      <td>Sistem informasi pengolahan data yang dibutuhk...</td>\n",
              "      <td>-</td>\n",
              "      <td>RPL</td>\n",
              "    </tr>\n",
              "    <tr>\n",
              "      <th>...</th>\n",
              "      <td>...</td>\n",
              "      <td>...</td>\n",
              "      <td>...</td>\n",
              "      <td>...</td>\n",
              "      <td>...</td>\n",
              "      <td>...</td>\n",
              "      <td>...</td>\n",
              "    </tr>\n",
              "    <tr>\n",
              "      <th>87</th>\n",
              "      <td>PENGENALAN TULISAN TANGAN HURUF ALFABET DENGAN...</td>\n",
              "      <td>Hilyati Safitri</td>\n",
              "      <td>Fitri Damayanti S.Kom., M.Kom</td>\n",
              "      <td>Kurniawan Eka Permana S.Kom., M.Sc.</td>\n",
              "      <td>Pengenalan tulisan tangan merupakan topik pene...</td>\n",
              "      <td>Tulisan Tangan, Modified Direction Feature, Le...</td>\n",
              "      <td>CAI</td>\n",
              "    </tr>\n",
              "    <tr>\n",
              "      <th>88</th>\n",
              "      <td>Perancangan Sistem Informasi Badan Kepegawaian...</td>\n",
              "      <td>MALIKUL HAMZAH</td>\n",
              "      <td>Moch. Kautsar Sophan, S.Kom., M.MT.</td>\n",
              "      <td>Yeni Kustiyaningsih, S.Kom., M.Kom.</td>\n",
              "      <td>Kantor Badan Kepegawaian kota Bangkalan adalah...</td>\n",
              "      <td>Arsitektur interprise, TOGAF ADM, Arsitektur b...</td>\n",
              "      <td>RPL</td>\n",
              "    </tr>\n",
              "    <tr>\n",
              "      <th>89</th>\n",
              "      <td>RANCANG BANGUN APLIKASI PEMILIHAN TEKNIK REKAY...</td>\n",
              "      <td>Lia Fransiska</td>\n",
              "      <td>Firli Irhamni S.T, M.Kom</td>\n",
              "      <td>Budi Dwi Satoto S.T, M.Kom</td>\n",
              "      <td>Penyusunan Sistem Pendukung Keputusan pemiliha...</td>\n",
              "      <td>Sistem Pendukung Keputusan, Teknik Rekayasa Ke...</td>\n",
              "      <td>RPL</td>\n",
              "    </tr>\n",
              "    <tr>\n",
              "      <th>90</th>\n",
              "      <td>DETEKSI COREPOINT SIDIK JARI MENGGUNAKAN METOD...</td>\n",
              "      <td>Erwina Safitri</td>\n",
              "      <td>Dr. Indah Agustien, S.Kom., M.Kom</td>\n",
              "      <td>Fitri Damayanti, S.Kom., M.Kom</td>\n",
              "      <td>Sidik jari adalah salah satu karakteristik fis...</td>\n",
              "      <td>Sidik jari, Corepoint, Geometry Of Region Tech...</td>\n",
              "      <td>CAI</td>\n",
              "    </tr>\n",
              "    <tr>\n",
              "      <th>91</th>\n",
              "      <td>SISTEM PENDUKUNG KEPUTUSAN REKOMENDASI MENU DI...</td>\n",
              "      <td>Desy Mariana S. Kom</td>\n",
              "      <td>Haryanto ST, MT</td>\n",
              "      <td>Firli Irhamni ST, M. Kom</td>\n",
              "      <td>Pelayanan makanan bagi pasien rawat inap di Ru...</td>\n",
              "      <td>Sistem Pendukung Keputusan, Harris Benedict da...</td>\n",
              "      <td>RPL</td>\n",
              "    </tr>\n",
              "  </tbody>\n",
              "</table>\n",
              "<p>92 rows × 7 columns</p>\n",
              "</div>\n",
              "      <button class=\"colab-df-convert\" onclick=\"convertToInteractive('df-26e6dc75-27f4-492d-9980-12351d387b6f')\"\n",
              "              title=\"Convert this dataframe to an interactive table.\"\n",
              "              style=\"display:none;\">\n",
              "        \n",
              "  <svg xmlns=\"http://www.w3.org/2000/svg\" height=\"24px\"viewBox=\"0 0 24 24\"\n",
              "       width=\"24px\">\n",
              "    <path d=\"M0 0h24v24H0V0z\" fill=\"none\"/>\n",
              "    <path d=\"M18.56 5.44l.94 2.06.94-2.06 2.06-.94-2.06-.94-.94-2.06-.94 2.06-2.06.94zm-11 1L8.5 8.5l.94-2.06 2.06-.94-2.06-.94L8.5 2.5l-.94 2.06-2.06.94zm10 10l.94 2.06.94-2.06 2.06-.94-2.06-.94-.94-2.06-.94 2.06-2.06.94z\"/><path d=\"M17.41 7.96l-1.37-1.37c-.4-.4-.92-.59-1.43-.59-.52 0-1.04.2-1.43.59L10.3 9.45l-7.72 7.72c-.78.78-.78 2.05 0 2.83L4 21.41c.39.39.9.59 1.41.59.51 0 1.02-.2 1.41-.59l7.78-7.78 2.81-2.81c.8-.78.8-2.07 0-2.86zM5.41 20L4 18.59l7.72-7.72 1.47 1.35L5.41 20z\"/>\n",
              "  </svg>\n",
              "      </button>\n",
              "      \n",
              "  <style>\n",
              "    .colab-df-container {\n",
              "      display:flex;\n",
              "      flex-wrap:wrap;\n",
              "      gap: 12px;\n",
              "    }\n",
              "\n",
              "    .colab-df-convert {\n",
              "      background-color: #E8F0FE;\n",
              "      border: none;\n",
              "      border-radius: 50%;\n",
              "      cursor: pointer;\n",
              "      display: none;\n",
              "      fill: #1967D2;\n",
              "      height: 32px;\n",
              "      padding: 0 0 0 0;\n",
              "      width: 32px;\n",
              "    }\n",
              "\n",
              "    .colab-df-convert:hover {\n",
              "      background-color: #E2EBFA;\n",
              "      box-shadow: 0px 1px 2px rgba(60, 64, 67, 0.3), 0px 1px 3px 1px rgba(60, 64, 67, 0.15);\n",
              "      fill: #174EA6;\n",
              "    }\n",
              "\n",
              "    [theme=dark] .colab-df-convert {\n",
              "      background-color: #3B4455;\n",
              "      fill: #D2E3FC;\n",
              "    }\n",
              "\n",
              "    [theme=dark] .colab-df-convert:hover {\n",
              "      background-color: #434B5C;\n",
              "      box-shadow: 0px 1px 3px 1px rgba(0, 0, 0, 0.15);\n",
              "      filter: drop-shadow(0px 1px 2px rgba(0, 0, 0, 0.3));\n",
              "      fill: #FFFFFF;\n",
              "    }\n",
              "  </style>\n",
              "\n",
              "      <script>\n",
              "        const buttonEl =\n",
              "          document.querySelector('#df-26e6dc75-27f4-492d-9980-12351d387b6f button.colab-df-convert');\n",
              "        buttonEl.style.display =\n",
              "          google.colab.kernel.accessAllowed ? 'block' : 'none';\n",
              "\n",
              "        async function convertToInteractive(key) {\n",
              "          const element = document.querySelector('#df-26e6dc75-27f4-492d-9980-12351d387b6f');\n",
              "          const dataTable =\n",
              "            await google.colab.kernel.invokeFunction('convertToInteractive',\n",
              "                                                     [key], {});\n",
              "          if (!dataTable) return;\n",
              "\n",
              "          const docLinkHtml = 'Like what you see? Visit the ' +\n",
              "            '<a target=\"_blank\" href=https://colab.research.google.com/notebooks/data_table.ipynb>data table notebook</a>'\n",
              "            + ' to learn more about interactive tables.';\n",
              "          element.innerHTML = '';\n",
              "          dataTable['output_type'] = 'display_data';\n",
              "          await google.colab.output.renderOutput(dataTable, element);\n",
              "          const docLink = document.createElement('div');\n",
              "          docLink.innerHTML = docLinkHtml;\n",
              "          element.appendChild(docLink);\n",
              "        }\n",
              "      </script>\n",
              "    </div>\n",
              "  </div>\n",
              "  "
            ]
          },
          "metadata": {},
          "execution_count": 14
        }
      ],
      "source": [
        "df.head(93)"
      ]
    },
    {
      "cell_type": "markdown",
      "metadata": {
        "_uuid": "ece312ea148c498c5584e83f6a36fce2dc236198",
        "id": "7zBE_VHvKHd5"
      },
      "source": [
        "Pada proses ini kolom **'Judul', 'Penulis', 'Pembimbing 1', 'Pembimbing 2', 'Kata Kunci', 'Label'** tidak digunakan atau diabaikan saja.\n",
        "\n",
        "Hanya kolom **'abstrak'** yang akan diproses."
      ]
    },
    {
      "cell_type": "code",
      "execution_count": 15,
      "metadata": {
        "_uuid": "2a6df530624e3b9c3cfb43659ba9c0f67e2aa1d4",
        "id": "wiuusKeEIr_o"
      },
      "outputs": [],
      "source": [
        "# drop the publish date.\n",
        "df.drop(['Judul','Penulis','Pembimbing 1','Pembimbing 2','Kata Kunci','Label'],axis=1,inplace=True)"
      ]
    },
    {
      "cell_type": "code",
      "execution_count": 16,
      "metadata": {
        "_uuid": "bd907b93c352fce35e8e6a886c01e9cf344ce455",
        "id": "FxegmHWtI3eJ",
        "colab": {
          "base_uri": "https://localhost:8080/",
          "height": 424
        },
        "outputId": "04fae013-19f2-42f5-a7e9-1a58ff7f7d74"
      },
      "outputs": [
        {
          "output_type": "execute_result",
          "data": {
            "text/plain": [
              "                                              abstrak\n",
              "0   Di Indonesia masalah perkembangan gizi adalah ...\n",
              "1   Seiring perkembangan teknologi yang ada diduni...\n",
              "2   Berjalannya koneksi jaringan komputer dengan l...\n",
              "3   Web server adalah sebuah perangkat lunak serve...\n",
              "4   Sistem informasi pengolahan data yang dibutuhk...\n",
              "..                                                ...\n",
              "87  Pengenalan tulisan tangan merupakan topik pene...\n",
              "88  Kantor Badan Kepegawaian kota Bangkalan adalah...\n",
              "89  Penyusunan Sistem Pendukung Keputusan pemiliha...\n",
              "90  Sidik jari adalah salah satu karakteristik fis...\n",
              "91  Pelayanan makanan bagi pasien rawat inap di Ru...\n",
              "\n",
              "[92 rows x 1 columns]"
            ],
            "text/html": [
              "\n",
              "  <div id=\"df-775fdd0f-e724-4735-9937-50c04597bb4d\">\n",
              "    <div class=\"colab-df-container\">\n",
              "      <div>\n",
              "<style scoped>\n",
              "    .dataframe tbody tr th:only-of-type {\n",
              "        vertical-align: middle;\n",
              "    }\n",
              "\n",
              "    .dataframe tbody tr th {\n",
              "        vertical-align: top;\n",
              "    }\n",
              "\n",
              "    .dataframe thead th {\n",
              "        text-align: right;\n",
              "    }\n",
              "</style>\n",
              "<table border=\"1\" class=\"dataframe\">\n",
              "  <thead>\n",
              "    <tr style=\"text-align: right;\">\n",
              "      <th></th>\n",
              "      <th>abstrak</th>\n",
              "    </tr>\n",
              "  </thead>\n",
              "  <tbody>\n",
              "    <tr>\n",
              "      <th>0</th>\n",
              "      <td>Di Indonesia masalah perkembangan gizi adalah ...</td>\n",
              "    </tr>\n",
              "    <tr>\n",
              "      <th>1</th>\n",
              "      <td>Seiring perkembangan teknologi yang ada diduni...</td>\n",
              "    </tr>\n",
              "    <tr>\n",
              "      <th>2</th>\n",
              "      <td>Berjalannya koneksi jaringan komputer dengan l...</td>\n",
              "    </tr>\n",
              "    <tr>\n",
              "      <th>3</th>\n",
              "      <td>Web server adalah sebuah perangkat lunak serve...</td>\n",
              "    </tr>\n",
              "    <tr>\n",
              "      <th>4</th>\n",
              "      <td>Sistem informasi pengolahan data yang dibutuhk...</td>\n",
              "    </tr>\n",
              "    <tr>\n",
              "      <th>...</th>\n",
              "      <td>...</td>\n",
              "    </tr>\n",
              "    <tr>\n",
              "      <th>87</th>\n",
              "      <td>Pengenalan tulisan tangan merupakan topik pene...</td>\n",
              "    </tr>\n",
              "    <tr>\n",
              "      <th>88</th>\n",
              "      <td>Kantor Badan Kepegawaian kota Bangkalan adalah...</td>\n",
              "    </tr>\n",
              "    <tr>\n",
              "      <th>89</th>\n",
              "      <td>Penyusunan Sistem Pendukung Keputusan pemiliha...</td>\n",
              "    </tr>\n",
              "    <tr>\n",
              "      <th>90</th>\n",
              "      <td>Sidik jari adalah salah satu karakteristik fis...</td>\n",
              "    </tr>\n",
              "    <tr>\n",
              "      <th>91</th>\n",
              "      <td>Pelayanan makanan bagi pasien rawat inap di Ru...</td>\n",
              "    </tr>\n",
              "  </tbody>\n",
              "</table>\n",
              "<p>92 rows × 1 columns</p>\n",
              "</div>\n",
              "      <button class=\"colab-df-convert\" onclick=\"convertToInteractive('df-775fdd0f-e724-4735-9937-50c04597bb4d')\"\n",
              "              title=\"Convert this dataframe to an interactive table.\"\n",
              "              style=\"display:none;\">\n",
              "        \n",
              "  <svg xmlns=\"http://www.w3.org/2000/svg\" height=\"24px\"viewBox=\"0 0 24 24\"\n",
              "       width=\"24px\">\n",
              "    <path d=\"M0 0h24v24H0V0z\" fill=\"none\"/>\n",
              "    <path d=\"M18.56 5.44l.94 2.06.94-2.06 2.06-.94-2.06-.94-.94-2.06-.94 2.06-2.06.94zm-11 1L8.5 8.5l.94-2.06 2.06-.94-2.06-.94L8.5 2.5l-.94 2.06-2.06.94zm10 10l.94 2.06.94-2.06 2.06-.94-2.06-.94-.94-2.06-.94 2.06-2.06.94z\"/><path d=\"M17.41 7.96l-1.37-1.37c-.4-.4-.92-.59-1.43-.59-.52 0-1.04.2-1.43.59L10.3 9.45l-7.72 7.72c-.78.78-.78 2.05 0 2.83L4 21.41c.39.39.9.59 1.41.59.51 0 1.02-.2 1.41-.59l7.78-7.78 2.81-2.81c.8-.78.8-2.07 0-2.86zM5.41 20L4 18.59l7.72-7.72 1.47 1.35L5.41 20z\"/>\n",
              "  </svg>\n",
              "      </button>\n",
              "      \n",
              "  <style>\n",
              "    .colab-df-container {\n",
              "      display:flex;\n",
              "      flex-wrap:wrap;\n",
              "      gap: 12px;\n",
              "    }\n",
              "\n",
              "    .colab-df-convert {\n",
              "      background-color: #E8F0FE;\n",
              "      border: none;\n",
              "      border-radius: 50%;\n",
              "      cursor: pointer;\n",
              "      display: none;\n",
              "      fill: #1967D2;\n",
              "      height: 32px;\n",
              "      padding: 0 0 0 0;\n",
              "      width: 32px;\n",
              "    }\n",
              "\n",
              "    .colab-df-convert:hover {\n",
              "      background-color: #E2EBFA;\n",
              "      box-shadow: 0px 1px 2px rgba(60, 64, 67, 0.3), 0px 1px 3px 1px rgba(60, 64, 67, 0.15);\n",
              "      fill: #174EA6;\n",
              "    }\n",
              "\n",
              "    [theme=dark] .colab-df-convert {\n",
              "      background-color: #3B4455;\n",
              "      fill: #D2E3FC;\n",
              "    }\n",
              "\n",
              "    [theme=dark] .colab-df-convert:hover {\n",
              "      background-color: #434B5C;\n",
              "      box-shadow: 0px 1px 3px 1px rgba(0, 0, 0, 0.15);\n",
              "      filter: drop-shadow(0px 1px 2px rgba(0, 0, 0, 0.3));\n",
              "      fill: #FFFFFF;\n",
              "    }\n",
              "  </style>\n",
              "\n",
              "      <script>\n",
              "        const buttonEl =\n",
              "          document.querySelector('#df-775fdd0f-e724-4735-9937-50c04597bb4d button.colab-df-convert');\n",
              "        buttonEl.style.display =\n",
              "          google.colab.kernel.accessAllowed ? 'block' : 'none';\n",
              "\n",
              "        async function convertToInteractive(key) {\n",
              "          const element = document.querySelector('#df-775fdd0f-e724-4735-9937-50c04597bb4d');\n",
              "          const dataTable =\n",
              "            await google.colab.kernel.invokeFunction('convertToInteractive',\n",
              "                                                     [key], {});\n",
              "          if (!dataTable) return;\n",
              "\n",
              "          const docLinkHtml = 'Like what you see? Visit the ' +\n",
              "            '<a target=\"_blank\" href=https://colab.research.google.com/notebooks/data_table.ipynb>data table notebook</a>'\n",
              "            + ' to learn more about interactive tables.';\n",
              "          element.innerHTML = '';\n",
              "          dataTable['output_type'] = 'display_data';\n",
              "          await google.colab.output.renderOutput(dataTable, element);\n",
              "          const docLink = document.createElement('div');\n",
              "          docLink.innerHTML = docLinkHtml;\n",
              "          element.appendChild(docLink);\n",
              "        }\n",
              "      </script>\n",
              "    </div>\n",
              "  </div>\n",
              "  "
            ]
          },
          "metadata": {},
          "execution_count": 16
        }
      ],
      "source": [
        "df.head(93)"
      ]
    },
    {
      "cell_type": "markdown",
      "metadata": {
        "_uuid": "2043c3fc7cb55f29282da53bf8ce8315aec19556",
        "id": "22XZMNvXKHd8"
      },
      "source": [
        "#### 3. Cleaning Data dan Preprocessing Data"
      ]
    },
    {
      "cell_type": "markdown",
      "metadata": {
        "_uuid": "dbd9e74a45cef82d83251327066f919c2a7ee08b",
        "id": "iOpkMoM_KHd8"
      },
      "source": [
        "Proses ini merupakan preprocessing data dengan menggunakan lemmatizer dan bisa juga menggunakan stemmer. Melakukan stopword pada kata yang telah digunakan bersama dengan kata-kata dengan panjang lebih pendek dari 3 karakter untuk mengurangi beberapa kata yang menyimpang."
      ]
    },
    {
      "cell_type": "code",
      "execution_count": 17,
      "metadata": {
        "_uuid": "c01abf16fc6c3b72873a40246d88f4f2d84af6a6",
        "id": "10MF-YmnI7vp"
      },
      "outputs": [],
      "source": [
        "def clean_text(headline):\n",
        "  le=WordNetLemmatizer()\n",
        "  word_tokens=word_tokenize(headline)\n",
        "  tokens=[le.lemmatize(w) for w in word_tokens if w not in stop_words and len(w)>3]\n",
        "  cleaned_text=\" \".join(tokens)\n",
        "  return cleaned_text"
      ]
    },
    {
      "cell_type": "code",
      "execution_count": 18,
      "metadata": {
        "_uuid": "0249f1e9dc0d448aa55778d88b17380cbb099b27",
        "id": "J9cX-1YxSisp",
        "colab": {
          "base_uri": "https://localhost:8080/"
        },
        "outputId": "56310b6c-3e2f-43f7-887b-708df71d1bf9"
      },
      "outputs": [
        {
          "output_type": "stream",
          "name": "stderr",
          "text": [
            "[nltk_data] Downloading package wordnet to /root/nltk_data...\n",
            "[nltk_data]   Unzipping corpora/wordnet.zip.\n",
            "[nltk_data] Downloading package punkt to /root/nltk_data...\n",
            "[nltk_data]   Unzipping tokenizers/punkt.zip.\n",
            "[nltk_data] Downloading package omw-1.4 to /root/nltk_data...\n",
            "[nltk_data]   Unzipping corpora/omw-1.4.zip.\n"
          ]
        }
      ],
      "source": [
        "# time taking\n",
        "import nltk\n",
        "nltk.download('wordnet')\n",
        "nltk.download('punkt')\n",
        "nltk.download('omw-1.4')\n",
        "df['abstrak_cleaned_text']=df['abstrak'].apply(clean_text)"
      ]
    },
    {
      "cell_type": "code",
      "execution_count": 19,
      "metadata": {
        "_uuid": "c81efcbf76b11b4a08c18e4ce6147fa35bfd2348",
        "id": "Qw6e2o8SSzi2",
        "colab": {
          "base_uri": "https://localhost:8080/",
          "height": 424
        },
        "outputId": "64afe503-0520-4b0d-e3bb-bead1fe77b82"
      },
      "outputs": [
        {
          "output_type": "execute_result",
          "data": {
            "text/plain": [
              "                                              abstrak  \\\n",
              "0   Di Indonesia masalah perkembangan gizi adalah ...   \n",
              "1   Seiring perkembangan teknologi yang ada diduni...   \n",
              "2   Berjalannya koneksi jaringan komputer dengan l...   \n",
              "3   Web server adalah sebuah perangkat lunak serve...   \n",
              "4   Sistem informasi pengolahan data yang dibutuhk...   \n",
              "..                                                ...   \n",
              "87  Pengenalan tulisan tangan merupakan topik pene...   \n",
              "88  Kantor Badan Kepegawaian kota Bangkalan adalah...   \n",
              "89  Penyusunan Sistem Pendukung Keputusan pemiliha...   \n",
              "90  Sidik jari adalah salah satu karakteristik fis...   \n",
              "91  Pelayanan makanan bagi pasien rawat inap di Ru...   \n",
              "\n",
              "                                 abstrak_cleaned_text  \n",
              "0   Indonesia perkembangan gizi perhatian Jika sta...  \n",
              "1   Seiring perkembangan teknologi didunia muncul ...  \n",
              "2   Berjalannya koneksi jaringan komputer lancar g...  \n",
              "3   server perangkat lunak server berfungsi meneri...  \n",
              "4   Sistem informasi pengolahan data dibutuhkan or...  \n",
              "..                                                ...  \n",
              "87  Pengenalan tulisan tangan topik penelitian pop...  \n",
              "88  Kantor Badan Kepegawaian kota Bangkalan instan...  \n",
              "89  Penyusunan Sistem Pendukung Keputusan pemiliha...  \n",
              "90  Sidik jari salah karakteristik fisik manusia i...  \n",
              "91  Pelayanan makanan pasien rawat inap Rumah Saki...  \n",
              "\n",
              "[92 rows x 2 columns]"
            ],
            "text/html": [
              "\n",
              "  <div id=\"df-a5b60d06-6e6b-4a24-a2fa-bfe7e73f1d58\">\n",
              "    <div class=\"colab-df-container\">\n",
              "      <div>\n",
              "<style scoped>\n",
              "    .dataframe tbody tr th:only-of-type {\n",
              "        vertical-align: middle;\n",
              "    }\n",
              "\n",
              "    .dataframe tbody tr th {\n",
              "        vertical-align: top;\n",
              "    }\n",
              "\n",
              "    .dataframe thead th {\n",
              "        text-align: right;\n",
              "    }\n",
              "</style>\n",
              "<table border=\"1\" class=\"dataframe\">\n",
              "  <thead>\n",
              "    <tr style=\"text-align: right;\">\n",
              "      <th></th>\n",
              "      <th>abstrak</th>\n",
              "      <th>abstrak_cleaned_text</th>\n",
              "    </tr>\n",
              "  </thead>\n",
              "  <tbody>\n",
              "    <tr>\n",
              "      <th>0</th>\n",
              "      <td>Di Indonesia masalah perkembangan gizi adalah ...</td>\n",
              "      <td>Indonesia perkembangan gizi perhatian Jika sta...</td>\n",
              "    </tr>\n",
              "    <tr>\n",
              "      <th>1</th>\n",
              "      <td>Seiring perkembangan teknologi yang ada diduni...</td>\n",
              "      <td>Seiring perkembangan teknologi didunia muncul ...</td>\n",
              "    </tr>\n",
              "    <tr>\n",
              "      <th>2</th>\n",
              "      <td>Berjalannya koneksi jaringan komputer dengan l...</td>\n",
              "      <td>Berjalannya koneksi jaringan komputer lancar g...</td>\n",
              "    </tr>\n",
              "    <tr>\n",
              "      <th>3</th>\n",
              "      <td>Web server adalah sebuah perangkat lunak serve...</td>\n",
              "      <td>server perangkat lunak server berfungsi meneri...</td>\n",
              "    </tr>\n",
              "    <tr>\n",
              "      <th>4</th>\n",
              "      <td>Sistem informasi pengolahan data yang dibutuhk...</td>\n",
              "      <td>Sistem informasi pengolahan data dibutuhkan or...</td>\n",
              "    </tr>\n",
              "    <tr>\n",
              "      <th>...</th>\n",
              "      <td>...</td>\n",
              "      <td>...</td>\n",
              "    </tr>\n",
              "    <tr>\n",
              "      <th>87</th>\n",
              "      <td>Pengenalan tulisan tangan merupakan topik pene...</td>\n",
              "      <td>Pengenalan tulisan tangan topik penelitian pop...</td>\n",
              "    </tr>\n",
              "    <tr>\n",
              "      <th>88</th>\n",
              "      <td>Kantor Badan Kepegawaian kota Bangkalan adalah...</td>\n",
              "      <td>Kantor Badan Kepegawaian kota Bangkalan instan...</td>\n",
              "    </tr>\n",
              "    <tr>\n",
              "      <th>89</th>\n",
              "      <td>Penyusunan Sistem Pendukung Keputusan pemiliha...</td>\n",
              "      <td>Penyusunan Sistem Pendukung Keputusan pemiliha...</td>\n",
              "    </tr>\n",
              "    <tr>\n",
              "      <th>90</th>\n",
              "      <td>Sidik jari adalah salah satu karakteristik fis...</td>\n",
              "      <td>Sidik jari salah karakteristik fisik manusia i...</td>\n",
              "    </tr>\n",
              "    <tr>\n",
              "      <th>91</th>\n",
              "      <td>Pelayanan makanan bagi pasien rawat inap di Ru...</td>\n",
              "      <td>Pelayanan makanan pasien rawat inap Rumah Saki...</td>\n",
              "    </tr>\n",
              "  </tbody>\n",
              "</table>\n",
              "<p>92 rows × 2 columns</p>\n",
              "</div>\n",
              "      <button class=\"colab-df-convert\" onclick=\"convertToInteractive('df-a5b60d06-6e6b-4a24-a2fa-bfe7e73f1d58')\"\n",
              "              title=\"Convert this dataframe to an interactive table.\"\n",
              "              style=\"display:none;\">\n",
              "        \n",
              "  <svg xmlns=\"http://www.w3.org/2000/svg\" height=\"24px\"viewBox=\"0 0 24 24\"\n",
              "       width=\"24px\">\n",
              "    <path d=\"M0 0h24v24H0V0z\" fill=\"none\"/>\n",
              "    <path d=\"M18.56 5.44l.94 2.06.94-2.06 2.06-.94-2.06-.94-.94-2.06-.94 2.06-2.06.94zm-11 1L8.5 8.5l.94-2.06 2.06-.94-2.06-.94L8.5 2.5l-.94 2.06-2.06.94zm10 10l.94 2.06.94-2.06 2.06-.94-2.06-.94-.94-2.06-.94 2.06-2.06.94z\"/><path d=\"M17.41 7.96l-1.37-1.37c-.4-.4-.92-.59-1.43-.59-.52 0-1.04.2-1.43.59L10.3 9.45l-7.72 7.72c-.78.78-.78 2.05 0 2.83L4 21.41c.39.39.9.59 1.41.59.51 0 1.02-.2 1.41-.59l7.78-7.78 2.81-2.81c.8-.78.8-2.07 0-2.86zM5.41 20L4 18.59l7.72-7.72 1.47 1.35L5.41 20z\"/>\n",
              "  </svg>\n",
              "      </button>\n",
              "      \n",
              "  <style>\n",
              "    .colab-df-container {\n",
              "      display:flex;\n",
              "      flex-wrap:wrap;\n",
              "      gap: 12px;\n",
              "    }\n",
              "\n",
              "    .colab-df-convert {\n",
              "      background-color: #E8F0FE;\n",
              "      border: none;\n",
              "      border-radius: 50%;\n",
              "      cursor: pointer;\n",
              "      display: none;\n",
              "      fill: #1967D2;\n",
              "      height: 32px;\n",
              "      padding: 0 0 0 0;\n",
              "      width: 32px;\n",
              "    }\n",
              "\n",
              "    .colab-df-convert:hover {\n",
              "      background-color: #E2EBFA;\n",
              "      box-shadow: 0px 1px 2px rgba(60, 64, 67, 0.3), 0px 1px 3px 1px rgba(60, 64, 67, 0.15);\n",
              "      fill: #174EA6;\n",
              "    }\n",
              "\n",
              "    [theme=dark] .colab-df-convert {\n",
              "      background-color: #3B4455;\n",
              "      fill: #D2E3FC;\n",
              "    }\n",
              "\n",
              "    [theme=dark] .colab-df-convert:hover {\n",
              "      background-color: #434B5C;\n",
              "      box-shadow: 0px 1px 3px 1px rgba(0, 0, 0, 0.15);\n",
              "      filter: drop-shadow(0px 1px 2px rgba(0, 0, 0, 0.3));\n",
              "      fill: #FFFFFF;\n",
              "    }\n",
              "  </style>\n",
              "\n",
              "      <script>\n",
              "        const buttonEl =\n",
              "          document.querySelector('#df-a5b60d06-6e6b-4a24-a2fa-bfe7e73f1d58 button.colab-df-convert');\n",
              "        buttonEl.style.display =\n",
              "          google.colab.kernel.accessAllowed ? 'block' : 'none';\n",
              "\n",
              "        async function convertToInteractive(key) {\n",
              "          const element = document.querySelector('#df-a5b60d06-6e6b-4a24-a2fa-bfe7e73f1d58');\n",
              "          const dataTable =\n",
              "            await google.colab.kernel.invokeFunction('convertToInteractive',\n",
              "                                                     [key], {});\n",
              "          if (!dataTable) return;\n",
              "\n",
              "          const docLinkHtml = 'Like what you see? Visit the ' +\n",
              "            '<a target=\"_blank\" href=https://colab.research.google.com/notebooks/data_table.ipynb>data table notebook</a>'\n",
              "            + ' to learn more about interactive tables.';\n",
              "          element.innerHTML = '';\n",
              "          dataTable['output_type'] = 'display_data';\n",
              "          await google.colab.output.renderOutput(dataTable, element);\n",
              "          const docLink = document.createElement('div');\n",
              "          docLink.innerHTML = docLinkHtml;\n",
              "          element.appendChild(docLink);\n",
              "        }\n",
              "      </script>\n",
              "    </div>\n",
              "  </div>\n",
              "  "
            ]
          },
          "metadata": {},
          "execution_count": 19
        }
      ],
      "source": [
        "df.head(93)"
      ]
    },
    {
      "cell_type": "markdown",
      "metadata": {
        "_uuid": "79d7fa2c195ec7a4b5410885cea4dbc7e58db316",
        "id": "Wuos0NVsVJFg"
      },
      "source": [
        "Dapat melihat perbedaan setelah penghapusan stopwords dan beberapa kata yang lebih pendek. Juga kata-kata telah dilemmatisasi seperti dalam 'yang', 'dengan', 'adalah', dll."
      ]
    },
    {
      "cell_type": "markdown",
      "metadata": {
        "_uuid": "c46d3085571e5bd3224bfb6a51164816a5e2a613",
        "id": "RDqxfd7VVhJx"
      },
      "source": [
        "Kemudian gunakan kolom yang belum diproses."
      ]
    },
    {
      "cell_type": "code",
      "execution_count": 20,
      "metadata": {
        "_uuid": "64cc5de96668ec6e6f37cefb31c349f35ff81771",
        "id": "PTkgClkxV7MP"
      },
      "outputs": [],
      "source": [
        "df.drop(['abstrak'],axis=1,inplace=True)"
      ]
    },
    {
      "cell_type": "code",
      "execution_count": 21,
      "metadata": {
        "_uuid": "dc01093ea4f6bd35e492e5136bec2ef90f8a1bf5",
        "id": "PHPX62iRV_ux",
        "colab": {
          "base_uri": "https://localhost:8080/",
          "height": 424
        },
        "outputId": "a50206bc-882b-434c-ff91-0bfe259cc6a1"
      },
      "outputs": [
        {
          "output_type": "execute_result",
          "data": {
            "text/plain": [
              "                                 abstrak_cleaned_text\n",
              "0   Indonesia perkembangan gizi perhatian Jika sta...\n",
              "1   Seiring perkembangan teknologi didunia muncul ...\n",
              "2   Berjalannya koneksi jaringan komputer lancar g...\n",
              "3   server perangkat lunak server berfungsi meneri...\n",
              "4   Sistem informasi pengolahan data dibutuhkan or...\n",
              "..                                                ...\n",
              "87  Pengenalan tulisan tangan topik penelitian pop...\n",
              "88  Kantor Badan Kepegawaian kota Bangkalan instan...\n",
              "89  Penyusunan Sistem Pendukung Keputusan pemiliha...\n",
              "90  Sidik jari salah karakteristik fisik manusia i...\n",
              "91  Pelayanan makanan pasien rawat inap Rumah Saki...\n",
              "\n",
              "[92 rows x 1 columns]"
            ],
            "text/html": [
              "\n",
              "  <div id=\"df-71ad6d05-9a49-4356-b30c-448072f86f3f\">\n",
              "    <div class=\"colab-df-container\">\n",
              "      <div>\n",
              "<style scoped>\n",
              "    .dataframe tbody tr th:only-of-type {\n",
              "        vertical-align: middle;\n",
              "    }\n",
              "\n",
              "    .dataframe tbody tr th {\n",
              "        vertical-align: top;\n",
              "    }\n",
              "\n",
              "    .dataframe thead th {\n",
              "        text-align: right;\n",
              "    }\n",
              "</style>\n",
              "<table border=\"1\" class=\"dataframe\">\n",
              "  <thead>\n",
              "    <tr style=\"text-align: right;\">\n",
              "      <th></th>\n",
              "      <th>abstrak_cleaned_text</th>\n",
              "    </tr>\n",
              "  </thead>\n",
              "  <tbody>\n",
              "    <tr>\n",
              "      <th>0</th>\n",
              "      <td>Indonesia perkembangan gizi perhatian Jika sta...</td>\n",
              "    </tr>\n",
              "    <tr>\n",
              "      <th>1</th>\n",
              "      <td>Seiring perkembangan teknologi didunia muncul ...</td>\n",
              "    </tr>\n",
              "    <tr>\n",
              "      <th>2</th>\n",
              "      <td>Berjalannya koneksi jaringan komputer lancar g...</td>\n",
              "    </tr>\n",
              "    <tr>\n",
              "      <th>3</th>\n",
              "      <td>server perangkat lunak server berfungsi meneri...</td>\n",
              "    </tr>\n",
              "    <tr>\n",
              "      <th>4</th>\n",
              "      <td>Sistem informasi pengolahan data dibutuhkan or...</td>\n",
              "    </tr>\n",
              "    <tr>\n",
              "      <th>...</th>\n",
              "      <td>...</td>\n",
              "    </tr>\n",
              "    <tr>\n",
              "      <th>87</th>\n",
              "      <td>Pengenalan tulisan tangan topik penelitian pop...</td>\n",
              "    </tr>\n",
              "    <tr>\n",
              "      <th>88</th>\n",
              "      <td>Kantor Badan Kepegawaian kota Bangkalan instan...</td>\n",
              "    </tr>\n",
              "    <tr>\n",
              "      <th>89</th>\n",
              "      <td>Penyusunan Sistem Pendukung Keputusan pemiliha...</td>\n",
              "    </tr>\n",
              "    <tr>\n",
              "      <th>90</th>\n",
              "      <td>Sidik jari salah karakteristik fisik manusia i...</td>\n",
              "    </tr>\n",
              "    <tr>\n",
              "      <th>91</th>\n",
              "      <td>Pelayanan makanan pasien rawat inap Rumah Saki...</td>\n",
              "    </tr>\n",
              "  </tbody>\n",
              "</table>\n",
              "<p>92 rows × 1 columns</p>\n",
              "</div>\n",
              "      <button class=\"colab-df-convert\" onclick=\"convertToInteractive('df-71ad6d05-9a49-4356-b30c-448072f86f3f')\"\n",
              "              title=\"Convert this dataframe to an interactive table.\"\n",
              "              style=\"display:none;\">\n",
              "        \n",
              "  <svg xmlns=\"http://www.w3.org/2000/svg\" height=\"24px\"viewBox=\"0 0 24 24\"\n",
              "       width=\"24px\">\n",
              "    <path d=\"M0 0h24v24H0V0z\" fill=\"none\"/>\n",
              "    <path d=\"M18.56 5.44l.94 2.06.94-2.06 2.06-.94-2.06-.94-.94-2.06-.94 2.06-2.06.94zm-11 1L8.5 8.5l.94-2.06 2.06-.94-2.06-.94L8.5 2.5l-.94 2.06-2.06.94zm10 10l.94 2.06.94-2.06 2.06-.94-2.06-.94-.94-2.06-.94 2.06-2.06.94z\"/><path d=\"M17.41 7.96l-1.37-1.37c-.4-.4-.92-.59-1.43-.59-.52 0-1.04.2-1.43.59L10.3 9.45l-7.72 7.72c-.78.78-.78 2.05 0 2.83L4 21.41c.39.39.9.59 1.41.59.51 0 1.02-.2 1.41-.59l7.78-7.78 2.81-2.81c.8-.78.8-2.07 0-2.86zM5.41 20L4 18.59l7.72-7.72 1.47 1.35L5.41 20z\"/>\n",
              "  </svg>\n",
              "      </button>\n",
              "      \n",
              "  <style>\n",
              "    .colab-df-container {\n",
              "      display:flex;\n",
              "      flex-wrap:wrap;\n",
              "      gap: 12px;\n",
              "    }\n",
              "\n",
              "    .colab-df-convert {\n",
              "      background-color: #E8F0FE;\n",
              "      border: none;\n",
              "      border-radius: 50%;\n",
              "      cursor: pointer;\n",
              "      display: none;\n",
              "      fill: #1967D2;\n",
              "      height: 32px;\n",
              "      padding: 0 0 0 0;\n",
              "      width: 32px;\n",
              "    }\n",
              "\n",
              "    .colab-df-convert:hover {\n",
              "      background-color: #E2EBFA;\n",
              "      box-shadow: 0px 1px 2px rgba(60, 64, 67, 0.3), 0px 1px 3px 1px rgba(60, 64, 67, 0.15);\n",
              "      fill: #174EA6;\n",
              "    }\n",
              "\n",
              "    [theme=dark] .colab-df-convert {\n",
              "      background-color: #3B4455;\n",
              "      fill: #D2E3FC;\n",
              "    }\n",
              "\n",
              "    [theme=dark] .colab-df-convert:hover {\n",
              "      background-color: #434B5C;\n",
              "      box-shadow: 0px 1px 3px 1px rgba(0, 0, 0, 0.15);\n",
              "      filter: drop-shadow(0px 1px 2px rgba(0, 0, 0, 0.3));\n",
              "      fill: #FFFFFF;\n",
              "    }\n",
              "  </style>\n",
              "\n",
              "      <script>\n",
              "        const buttonEl =\n",
              "          document.querySelector('#df-71ad6d05-9a49-4356-b30c-448072f86f3f button.colab-df-convert');\n",
              "        buttonEl.style.display =\n",
              "          google.colab.kernel.accessAllowed ? 'block' : 'none';\n",
              "\n",
              "        async function convertToInteractive(key) {\n",
              "          const element = document.querySelector('#df-71ad6d05-9a49-4356-b30c-448072f86f3f');\n",
              "          const dataTable =\n",
              "            await google.colab.kernel.invokeFunction('convertToInteractive',\n",
              "                                                     [key], {});\n",
              "          if (!dataTable) return;\n",
              "\n",
              "          const docLinkHtml = 'Like what you see? Visit the ' +\n",
              "            '<a target=\"_blank\" href=https://colab.research.google.com/notebooks/data_table.ipynb>data table notebook</a>'\n",
              "            + ' to learn more about interactive tables.';\n",
              "          element.innerHTML = '';\n",
              "          dataTable['output_type'] = 'display_data';\n",
              "          await google.colab.output.renderOutput(dataTable, element);\n",
              "          const docLink = document.createElement('div');\n",
              "          docLink.innerHTML = docLinkHtml;\n",
              "          element.appendChild(docLink);\n",
              "        }\n",
              "      </script>\n",
              "    </div>\n",
              "  </div>\n",
              "  "
            ]
          },
          "metadata": {},
          "execution_count": 21
        }
      ],
      "source": [
        "df.head(93)"
      ]
    },
    {
      "cell_type": "markdown",
      "metadata": {
        "_uuid": "ac1c4d306d9c1ea25c1b28250b386a8d8fde4134",
        "id": "SJONDOkVKHeB"
      },
      "source": [
        "Kita juga bisa melihat headline berita tertentu."
      ]
    },
    {
      "cell_type": "code",
      "execution_count": 22,
      "metadata": {
        "_uuid": "219d5fa37fbffff1c1acdeb46722a40cee1842a2",
        "id": "zlVvCr7qWkqA",
        "colab": {
          "base_uri": "https://localhost:8080/",
          "height": 105
        },
        "outputId": "71797491-dc44-4547-8d52-862f1ecbdcdc"
      },
      "outputs": [
        {
          "output_type": "execute_result",
          "data": {
            "text/plain": [
              "'Indonesia perkembangan gizi perhatian Jika status gizinya mengontrol gizi dibutuhkan tubuh Dalam penelitian dirancang aplikasi sistem pendukung keputusan menentukan status gizi pasien solusi makanan pasien sesuai riwayat penyakit derita pasien Sistem dirancang berbasis memudahkan admin ahli gizi rumah sakit penentuan status gizi pasien Diharapkan aplikasi efisien efektifitas kinerja Metode penelitian Naïve Bayes Classifier Metode terbaru memprediksi probabilitas.Metode Naïve bayes Classifier prose penentuan perhitungan probabilitas status gizi Dimana dicari nilai probabilitas terbesar kesimpulan penentuan status gizi Metode diterapkan studi Sistem Penentuan Status Gizi Pasien hasil akurasi terbesar'"
            ],
            "application/vnd.google.colaboratory.intrinsic+json": {
              "type": "string"
            }
          },
          "metadata": {},
          "execution_count": 22
        }
      ],
      "source": [
        "df['abstrak_cleaned_text'][0]"
      ]
    },
    {
      "cell_type": "markdown",
      "source": [
        "#### 4. Mengekstraksi Fitur dan Membuat Document Term Matrix (DTM)\n",
        "\n",
        "Dalam DTM nilainya adalah nilai TFidf. Tentukan beberapa parameter dari vectorizer Tfidf. Beberapa poin penting:\n",
        "\n",
        "1.   LSA umumnya diimplementasikan dengan nilai Tfidf di mana-mana dan bukan dengan Count Vectorizer.\n",
        "2.   Max_features bergantung pada daya komputasi Anda dan juga pada eval. metrik (skor koherensi adalah metrik untuk model topik). Coba nilai yang memberikan evaluasi terbaik. metrik dan tidak membatasi kekuatan pemrosesan.\n",
        "3.   Nilai default untuk min_df & max_df bekerja dengan baik.\n",
        "4.   Dapat mencoba nilai yang berbeda untuk ngram_range."
      ],
      "metadata": {
        "id": "sCIW3rb7NAZd"
      }
    },
    {
      "cell_type": "code",
      "source": [
        "vect =TfidfVectorizer(stop_words=stop_words,max_features=1000) # to play with. min_df,max_df,max_features etc..."
      ],
      "metadata": {
        "id": "lyb3wkpOOXro"
      },
      "execution_count": 23,
      "outputs": []
    },
    {
      "cell_type": "code",
      "source": [
        "vect_text=vect.fit_transform(df['abstrak_cleaned_text'])"
      ],
      "metadata": {
        "id": "n_3fijYoOcJq",
        "colab": {
          "base_uri": "https://localhost:8080/"
        },
        "outputId": "80ecc08f-7010-49ab-a87f-326460dbf98c"
      },
      "execution_count": 24,
      "outputs": [
        {
          "output_type": "stream",
          "name": "stderr",
          "text": [
            "/usr/local/lib/python3.7/dist-packages/sklearn/feature_extraction/text.py:401: UserWarning: Your stop_words may be inconsistent with your preprocessing. Tokenizing the stop words generated tokens ['baiknya', 'berkali', 'kali', 'kurangnya', 'mata', 'olah', 'sekurang', 'setidak', 'tama', 'tidaknya'] not in stop_words.\n",
            "  % sorted(inconsistent)\n"
          ]
        }
      ]
    },
    {
      "cell_type": "markdown",
      "metadata": {
        "_uuid": "bb0975cb5ba0e82f9e14eba53bd466c26b892a7e",
        "id": "Zwsn4wTQKHeD"
      },
      "source": [
        "Sekarang kita dapat melihat kata-kata yang paling sering dan langka di headline berita berdasarkan skor idf. Semakin kecil nilainya; lebih umum adalah kata dalam berita utama."
      ]
    },
    {
      "cell_type": "code",
      "execution_count": 25,
      "metadata": {
        "_uuid": "a75bc1a06e66fa4c8615822f703487424761570b",
        "id": "5G-Zt5lUsUjx",
        "colab": {
          "base_uri": "https://localhost:8080/"
        },
        "outputId": "4e918e30-3024-4103-f269-e4fead8d525f"
      },
      "outputs": [
        {
          "output_type": "stream",
          "name": "stdout",
          "text": [
            "(92, 1000)\n",
            "  (0, 18)\t0.048358944386697966\n",
            "  (0, 214)\t0.025178616635927558\n",
            "  (0, 865)\t0.05786503972311729\n",
            "  (0, 164)\t0.05183720921658676\n",
            "  (0, 300)\t0.061862610278876344\n",
            "  (0, 906)\t0.15886792684681533\n",
            "  (0, 528)\t0.037596204970856036\n",
            "  (0, 137)\t0.0670163750884792\n",
            "  (0, 149)\t0.04944502194394788\n",
            "  (0, 683)\t0.054598786753550725\n",
            "  (0, 748)\t0.029394219819368697\n",
            "  (0, 739)\t0.22284059584141444\n",
            "  (0, 431)\t0.0670163750884792\n",
            "  (0, 903)\t0.07943396342340767\n",
            "  (0, 102)\t0.14856039722760964\n",
            "  (0, 56)\t0.14856039722760964\n",
            "  (0, 524)\t0.17339557389746657\n",
            "  (0, 493)\t0.10929932137989017\n",
            "  (0, 312)\t0.05316483820556693\n",
            "  (0, 172)\t0.054598786753550725\n",
            "  (0, 141)\t0.054598786753550725\n",
            "  (0, 622)\t0.23901020625261435\n",
            "  (0, 782)\t0.0670163750884792\n",
            "  (0, 779)\t0.06425479755151522\n",
            "  (0, 12)\t0.07428019861380482\n",
            "  :\t:\n",
            "  (91, 426)\t0.07570825271127254\n",
            "  (91, 134)\t0.06698614467804477\n",
            "  (91, 21)\t0.070796216199383\n",
            "  (91, 876)\t0.07570825271127254\n",
            "  (91, 498)\t0.070796216199383\n",
            "  (91, 179)\t0.06387308957438843\n",
            "  (91, 579)\t0.05694996294939387\n",
            "  (91, 445)\t0.06387308957438843\n",
            "  (91, 268)\t0.1413776697768444\n",
            "  (91, 476)\t0.33493072339022384\n",
            "  (91, 957)\t0.04331581840427656\n",
            "  (91, 683)\t0.05203792643750433\n",
            "  (91, 493)\t0.07812962133173197\n",
            "  (91, 141)\t0.05203792643750433\n",
            "  (91, 782)\t0.12774617914877687\n",
            "  (91, 779)\t0.12248207797492983\n",
            "  (91, 660)\t0.06124103898746491\n",
            "  (91, 816)\t0.1325748820736638\n",
            "  (91, 374)\t0.3785412635563627\n",
            "  (91, 569)\t0.566369729595064\n",
            "  (91, 290)\t0.10407585287500866\n",
            "  (91, 619)\t0.10704720981136753\n",
            "  (91, 833)\t0.05208641422115465\n",
            "  (91, 34)\t0.036971544879933815\n",
            "  (91, 205)\t0.06698614467804477\n"
          ]
        }
      ],
      "source": [
        "print(vect_text.shape)\n",
        "print(vect_text)"
      ]
    },
    {
      "cell_type": "code",
      "execution_count": 26,
      "metadata": {
        "_uuid": "fdf6846bf90d386f8361467a420af9b40b689521",
        "id": "zbF-rC1va7tP"
      },
      "outputs": [],
      "source": [
        "idf=vect.idf_"
      ]
    },
    {
      "cell_type": "code",
      "execution_count": 27,
      "metadata": {
        "_uuid": "b5dc9f0d99d949a36cdb00be41b5ba4a424f093c",
        "id": "a0wQG_tZm53A",
        "colab": {
          "base_uri": "https://localhost:8080/"
        },
        "outputId": "d13ccf5d-35e7-4a17-d671-c117e27a4e6b"
      },
      "outputs": [
        {
          "output_type": "stream",
          "name": "stdout",
          "text": [
            "hasil wisata\n",
            "1.4054651081081644\n",
            "4.839452312593311\n"
          ]
        },
        {
          "output_type": "stream",
          "name": "stderr",
          "text": [
            "/usr/local/lib/python3.7/dist-packages/sklearn/utils/deprecation.py:87: FutureWarning: Function get_feature_names is deprecated; get_feature_names is deprecated in 1.0 and will be removed in 1.2. Please use get_feature_names_out instead.\n",
            "  warnings.warn(msg, category=FutureWarning)\n"
          ]
        }
      ],
      "source": [
        "dd=dict(zip(vect.get_feature_names(), idf))\n",
        "l=sorted(dd, key=(dd).get)\n",
        "# print(l)\n",
        "print(l[0],l[-1])\n",
        "print(dd['hasil'])\n",
        "print(dd['wisata'])  # police is most common and forecast is least common among the news headlines."
      ]
    },
    {
      "cell_type": "markdown",
      "metadata": {
        "_uuid": "868e6b05bc280289edea4e14b31c98a435d8ebbc",
        "id": "1Gc-x0EqKHeE"
      },
      "source": [
        "Oleh karena itu kita dapat melihat bahwa berdasarkan **nilai idf** , **'hasil'** adalah kata **paling sering** sedangkan **'wisata'** **paling jarang** muncul di antara abstrak."
      ]
    },
    {
      "cell_type": "markdown",
      "metadata": {
        "_uuid": "3b96bb00ba3313b3fcab6735e73c56e89fc74365",
        "id": "x6dHR9bnKHeF"
      },
      "source": [
        "### 4. Topic Modelling"
      ]
    },
    {
      "cell_type": "markdown",
      "source": [
        "Suatu metode pada  analisa penambangan teks untuk melakukan penemuan data-data teks yang tersembunyi dan menemukan hubungan antara teks yang satu dengan lainnya dari suatu corpus.\n",
        "* Mengelompokkan data teks yang didasarkan pada topik tertentu.\n",
        "* Ide-tema-pokok bahasan utama dalam suatu kumpulan teks.\n",
        "\n",
        "Diimplementasikan untuk :\n",
        "* Mengetahui topik bahasan di media sosial\n",
        "* Mengetahui topik penelitian\n",
        "* Mengetahui topik yang dibahas dalam review produk, dll.\n",
        "\n",
        "Tugas pokok topik modelling :\n",
        "* Menemukan topik dalam kumpulan teks (Corpus) \n",
        "* Mengetahui proporsi topik dalam suatu dokumen\n",
        "\n",
        "**Topic** mengandung  distribusi dari beberapa kosakata (term) yang bersifat tetap.\n",
        "\n",
        "**Dokumen** mengandung proporsi topik-topik tertentu sesuai kata-kata yang terkandung di dalamnya."
      ],
      "metadata": {
        "id": "OWrrKVjbc53Q"
      }
    },
    {
      "cell_type": "markdown",
      "metadata": {
        "_uuid": "0bad03b7f6b2b69cd4554ec9e7681b430dfe4e10",
        "id": "5t314PtpKHeF"
      },
      "source": [
        "#### 1. Latent Semantic Analysis (LSA)"
      ]
    },
    {
      "cell_type": "markdown",
      "source": [
        "Pendekatan pertama yang saya gunakan adalah LSA. LSA pada dasarnya adalah dekomposisi nilai tunggal. \n",
        "\n",
        "SVD menguraikan DTM asli menjadi tiga matriks S=U.(sigma).(V.T). Di sini matriks U menunjukkan matriks topik-dokumen sedangkan (V) adalah matriks istilah-topik.\n",
        "\n",
        "Setiap baris dari matriks U(matriks term dokumen) adalah representasi vektor dari dokumen yang bersangkutan. Panjang vektor ini adalah jumlah topik yang diinginkan. Representasi vektor untuk suku-suku dalam data kami dapat ditemukan dalam matriks V (matriks istilah-topik).\n",
        "\n",
        "Jadi, SVD memberi kita vektor untuk setiap dokumen dan istilah dalam data kita. Panjang setiap vektor adalah k. Kemudian kita dapat menggunakan vektor-vektor ini untuk menemukan kata dan dokumen serupa menggunakan metode kesamaan kosinus.\n",
        "\n",
        "Kita dapat menggunakan fungsi truncatedSVD untuk mengimplementasikan LSA. Parameter n_components adalah jumlah topik yang ingin kita ekstrak.\n",
        "Model tersebut kemudian di fit dan ditransformasikan pada hasil yang diberikan oleh vectorizer.\n",
        "\n",
        "Terakhir perhatikan bahwa LSA dan LSI (I untuk pengindeksan) adalah sama dan yang terakhir hanya terkadang digunakan dalam konteks pencarian informasi."
      ],
      "metadata": {
        "id": "qeOlQ_msWPdR"
      }
    },
    {
      "cell_type": "markdown",
      "source": [
        "Rumus Singular Value Decomposition (SVD) :"
      ],
      "metadata": {
        "id": "fIxwkkNYk5w7"
      }
    },
    {
      "cell_type": "markdown",
      "source": [
        "\\begin{equation}\n",
        "A_{m n}=U_{m m} x S_{m n} x V_{n n}^{T}\n",
        "\\end{equation}"
      ],
      "metadata": {
        "id": "npOEZF4pk845"
      }
    },
    {
      "cell_type": "markdown",
      "source": [
        "Rumus Cosine Similarity :"
      ],
      "metadata": {
        "id": "1ejFMolYkOjR"
      }
    },
    {
      "cell_type": "markdown",
      "source": [
        "\\begin{equation}\n",
        "\\cos \\alpha=\\frac{A \\cdot B}{|A||B|}=\\frac{\\sum_{i=1}^{n} A_{i} X B_{i}}{\\sqrt{\\sum_{i=1}^{n}\\left(A_{i}\\right)^{2}} X \\sqrt{\\sum_{i=1}^{n}\\left(B_{i}\\right)^{2}}}\n",
        "\\end{equation}"
      ],
      "metadata": {
        "id": "9oaEFnrwkR-e"
      }
    },
    {
      "cell_type": "code",
      "execution_count": 28,
      "metadata": {
        "_uuid": "ac483df5e69eeb2b4b71af956c6987896eda7eb6",
        "id": "9xuGfFdtqTp5"
      },
      "outputs": [],
      "source": [
        "from sklearn.decomposition import TruncatedSVD\n",
        "lsa_model = TruncatedSVD(n_components=10, algorithm='randomized', n_iter=10, random_state=42)\n",
        "\n",
        "lsa_top=lsa_model.fit_transform(vect_text)\n"
      ]
    },
    {
      "cell_type": "code",
      "execution_count": 29,
      "metadata": {
        "_uuid": "0a8f4620d3c71db1275e4b5662bf4ab32c598266",
        "id": "KdaVWPC6xmq-",
        "colab": {
          "base_uri": "https://localhost:8080/"
        },
        "outputId": "d43508f7-38c2-494a-c8e0-df4a6e693eb9"
      },
      "outputs": [
        {
          "output_type": "stream",
          "name": "stdout",
          "text": [
            "[[ 2.19197403e-01 -1.70211040e-02  5.14556885e-02  9.58213042e-02\n",
            "  -1.59253260e-01  7.10236071e-01 -1.47871616e-01 -2.51457379e-01\n",
            "  -9.17880155e-02  1.28422405e-02]\n",
            " [ 1.20164885e-01 -4.25647269e-02 -8.79784424e-02  1.84611397e-01\n",
            "   1.23380150e-01 -2.02122572e-02 -3.17128944e-02 -8.14278693e-02\n",
            "   1.19033970e-03  2.71258306e-01]\n",
            " [ 8.35455192e-02 -4.62389407e-02 -5.17464101e-02  5.43276079e-02\n",
            "   3.33569265e-04  1.05403915e-02  2.59849965e-02  4.30188960e-02\n",
            "   1.81783587e-02 -8.59921873e-02]\n",
            " [ 9.50874429e-02 -9.71332259e-03  1.46483579e-02  6.60138391e-02\n",
            "   2.75825451e-02  5.71392595e-02 -2.21629196e-02  5.62034180e-02\n",
            "  -4.83092592e-03 -7.70516941e-02]\n",
            " [ 3.38361679e-01 -2.12584957e-01 -1.92196604e-01 -1.39155752e-01\n",
            "  -2.03618714e-01 -7.62859808e-02  4.67466528e-02  1.38053459e-01\n",
            "  -3.08585631e-02 -8.63984667e-02]\n",
            " [ 1.23766324e-01 -2.84390366e-02 -8.07551822e-02  3.75084907e-01\n",
            "   2.14113523e-01  2.92662780e-02  3.71370319e-02  1.78463692e-01\n",
            "   1.00000252e-01 -2.36326206e-01]\n",
            " [ 2.32341159e-01  2.60201388e-01 -7.81598860e-02 -5.70377063e-02\n",
            "   2.37396995e-02  1.26372763e-02  1.26222691e-01 -1.23502511e-02\n",
            "   9.46175484e-03  3.77879715e-02]\n",
            " [ 1.22434474e-01 -4.66617810e-03 -9.28809687e-02  4.03191806e-01\n",
            "   2.42776730e-01  4.92730311e-02  4.60408440e-02  1.40268646e-01\n",
            "   5.63557376e-02 -2.34372299e-01]\n",
            " [ 3.02437842e-01 -1.98091082e-01  2.06094530e-01 -2.97318347e-01\n",
            "   4.83822038e-01  3.27620144e-03 -6.95732707e-02 -1.98051312e-01\n",
            "   1.13486876e-01  7.56964107e-02]\n",
            " [ 1.84365099e-01 -3.87396043e-03  2.33572790e-01  4.44710399e-02\n",
            "  -8.92523956e-03 -6.74897421e-02 -5.12551387e-02  3.12982419e-02\n",
            "  -4.30036622e-02  6.58261740e-02]\n",
            " [ 1.51870757e-01 -9.78257033e-03  3.04647760e-01  1.57358643e-01\n",
            "  -1.72797346e-01 -1.48136403e-01  1.05532670e-01 -2.12316346e-01\n",
            "   2.22022208e-01  8.39756665e-03]\n",
            " [ 1.12636018e-01 -6.66101274e-02 -7.96425690e-02  1.90436050e-02\n",
            "  -7.99579697e-02 -7.34612469e-02 -2.90540961e-02  2.39860971e-02\n",
            "  -8.49042714e-02  4.86235712e-02]\n",
            " [ 1.00277174e-01 -5.08179999e-02 -5.57313021e-02  6.61299961e-03\n",
            "  -6.80000830e-02  1.36505184e-01 -2.95618708e-02 -8.25772388e-03\n",
            "   1.97215585e-03 -2.68722215e-02]\n",
            " [ 3.77552513e-01 -2.65551575e-01 -4.20713131e-02 -3.92786046e-01\n",
            "   2.80227254e-01 -5.03055864e-02  4.68264025e-02 -1.75958345e-01\n",
            "   2.15239538e-01 -1.52474054e-01]\n",
            " [ 2.07586995e-01 -3.66281194e-02  2.21977455e-02  1.00396231e-01\n",
            "  -1.44588915e-01 -1.03523015e-01 -4.48795284e-02 -9.65299959e-02\n",
            "  -1.28647602e-01 -6.92537965e-02]\n",
            " [ 3.29399403e-01  4.54905450e-01  1.10107251e-02  1.59675268e-02\n",
            "   3.68346198e-02  4.42655216e-02 -1.10033286e-01 -3.13820104e-02\n",
            "   6.02989126e-02  4.40980652e-02]\n",
            " [ 1.77802169e-01 -2.44192666e-02  5.21329303e-02 -5.52595202e-03\n",
            "  -3.58802967e-02  5.62377032e-02  3.83174569e-02 -4.34744826e-02\n",
            "  -6.04176328e-03 -2.10669691e-01]\n",
            " [ 3.42137735e-01  3.71691485e-01 -7.41825050e-02 -8.65133298e-02\n",
            "   3.13064993e-02  6.04437094e-02  6.38269281e-01 -4.37608168e-02\n",
            "  -1.36597494e-01  1.26080790e-01]\n",
            " [ 4.09985887e-01  6.50841709e-01 -6.96938587e-02 -9.10811815e-02\n",
            "   2.94665821e-02 -7.72290517e-02 -2.93200468e-01  2.52883740e-02\n",
            "   5.42364950e-02 -5.42137927e-02]\n",
            " [ 1.85818205e-01 -7.46718687e-02 -5.81583677e-02 -5.61970962e-03\n",
            "  -8.21247810e-02  3.66553195e-02 -4.22292333e-02  9.10300599e-02\n",
            "   7.90382751e-02  1.08156405e-01]\n",
            " [ 1.83473837e-01 -2.71847232e-02 -5.40498430e-02  7.66350163e-03\n",
            "  -4.22634782e-02  7.99562667e-02  4.98062009e-02  4.18692485e-02\n",
            "   4.45563181e-02 -6.51914962e-02]\n",
            " [ 1.47285572e-01 -3.60742762e-02  1.09281315e-01  1.06180330e-01\n",
            "   3.54386160e-02  2.05565443e-02 -2.54685078e-02  6.12101278e-02\n",
            "  -2.79663362e-02 -1.14557495e-01]\n",
            " [ 1.83537634e-01 -6.14158399e-02 -1.34730462e-01  5.28131181e-01\n",
            "   3.13253874e-01  1.29675804e-02  6.09938438e-02  1.18232728e-01\n",
            "   8.69391407e-02 -1.00446195e-01]\n",
            " [ 2.51783986e-01 -7.70269908e-02  1.83194205e-01 -3.63275252e-02\n",
            "   4.43538502e-02  1.05210021e-01 -5.00748632e-02  1.35407438e-01\n",
            "  -1.15238024e-01  3.78613588e-02]\n",
            " [ 1.79392684e-01  3.12219680e-02  1.06243561e-01  8.97241069e-02\n",
            "   1.57638290e-02  5.83269207e-02  6.12543861e-02  1.80565228e-02\n",
            "  -3.69356258e-02 -1.02180078e-01]\n",
            " [ 2.39083202e-01 -1.66797068e-01 -1.11895382e-01  1.52501067e-01\n",
            "   3.74878731e-01 -8.91999722e-02 -1.05947444e-01 -2.80798207e-01\n",
            "  -6.19375851e-02  2.34778822e-01]\n",
            " [ 1.26608934e-01 -7.82490132e-02 -4.47074545e-02 -2.83573732e-02\n",
            "  -6.07115845e-02 -4.09382271e-03 -1.52273744e-02  6.48864065e-02\n",
            "  -2.60101241e-02 -5.32358865e-02]\n",
            " [ 1.80994909e-01 -6.83077382e-02  1.91525956e-01  6.16453109e-02\n",
            "  -1.61385624e-01 -4.67661374e-02 -1.09526702e-02  1.29783892e-01\n",
            "  -7.77018177e-02  3.86016072e-02]\n",
            " [ 1.36341245e-01 -2.82165366e-02 -9.40485934e-02  4.70769914e-01\n",
            "   2.92112325e-01  6.22375268e-02  6.46668075e-02  1.74351882e-01\n",
            "   1.19357268e-01 -2.42078796e-01]\n",
            " [ 1.33046563e-01 -4.22101234e-02 -5.28023653e-02 -5.89761103e-02\n",
            "   4.75181520e-02 -3.18080960e-02  1.78964505e-03 -4.58465148e-02\n",
            "   4.74457509e-02  1.05608391e-02]\n",
            " [ 1.72313476e-01 -6.09415970e-02 -1.21302469e-01  2.85131819e-01\n",
            "   2.31919833e-01 -7.76849075e-02 -2.17184272e-02 -1.80172736e-01\n",
            "  -9.20099083e-03  3.93964808e-01]\n",
            " [ 1.78382691e-01 -3.46775144e-02  2.95903980e-01  1.63664386e-01\n",
            "  -1.96020328e-01 -1.79224341e-01  4.33639531e-02 -2.33426060e-01\n",
            "   1.80599720e-01  8.27989749e-02]\n",
            " [ 2.13861665e-01 -6.51147895e-02  4.58541412e-02  2.79043388e-02\n",
            "  -6.75896769e-02  5.64041520e-02  4.70484903e-02  2.35952910e-02\n",
            "  -1.39092777e-02 -1.83556763e-01]\n",
            " [ 1.37325642e-01 -2.28838123e-02 -7.84187417e-02  1.88020574e-01\n",
            "   9.53642206e-02  8.24804796e-03  4.13136400e-02 -5.92716112e-02\n",
            "  -7.13552538e-02  1.64877751e-01]\n",
            " [ 2.03734972e-01 -4.16823243e-02  1.39232485e-01  1.22904640e-01\n",
            "  -1.49179865e-01 -3.89816114e-02  7.64671774e-02 -1.76120694e-02\n",
            "  -1.15336450e-01 -1.80873069e-01]\n",
            " [ 1.93937143e-01 -5.18781512e-02 -3.93721991e-02 -2.38183475e-02\n",
            "  -4.84619414e-02  3.46453718e-02 -3.55074238e-02  8.08117666e-02\n",
            "   3.27818204e-02  4.76057613e-04]\n",
            " [ 2.67507442e-01 -7.14138870e-02  3.22226628e-01  1.57206156e-01\n",
            "  -2.17360946e-01 -1.08792101e-01  1.02976097e-01 -1.47400266e-01\n",
            "   9.67727670e-02 -1.11634506e-01]\n",
            " [ 1.54640924e-01 -6.73161825e-02 -8.20482761e-02  2.19223692e-01\n",
            "   1.60297128e-01  1.02185019e-02  2.70146834e-02 -6.42611903e-03\n",
            "   6.52832299e-02  1.00153442e-02]\n",
            " [ 1.35709568e-01 -2.15136513e-02  3.00828480e-02  3.78429437e-02\n",
            "  -6.31785425e-02  2.38460808e-03  1.24456374e-02 -4.23653770e-02\n",
            "  -5.36689077e-02 -1.98816889e-03]\n",
            " [ 1.65837650e-01 -1.05893607e-02  9.15839632e-03  4.35886908e-02\n",
            "  -1.13179628e-01  6.03866642e-01 -1.25948323e-01 -3.02044528e-01\n",
            "  -2.52537678e-02 -6.48466027e-02]\n",
            " [ 2.04069336e-01 -7.11487825e-02  2.85672412e-01  1.27690004e-01\n",
            "  -1.91803911e-01 -1.53913525e-01  5.00338903e-03 -8.53837894e-02\n",
            "   7.32876788e-02  5.75528500e-02]\n",
            " [ 2.50934342e-01 -1.60740078e-01 -2.49066964e-01  8.87484635e-02\n",
            "  -3.95953833e-02 -2.31017731e-01 -1.51244274e-01 -3.11790412e-01\n",
            "  -3.36620217e-01  9.72006976e-02]\n",
            " [ 3.36295485e-01 -1.82744657e-01  3.90667868e-01 -2.40382730e-01\n",
            "   3.66358795e-01  1.01731441e-01 -6.52916066e-02  1.64962859e-01\n",
            "  -8.15570104e-02  1.36846900e-01]\n",
            " [ 2.49191934e-01 -1.12468485e-01 -1.98954912e-01 -1.95764271e-01\n",
            "  -5.37618913e-02 -2.81173833e-02  1.12761737e-01 -1.61224944e-02\n",
            "   1.50944230e-01 -2.67582381e-01]\n",
            " [ 3.02478412e-01 -1.90299319e-01 -2.99269763e-01  2.25789184e-02\n",
            "  -6.32187965e-02 -2.21690092e-01 -5.77515353e-02 -2.92158136e-01\n",
            "  -2.63278359e-01 -2.26054756e-02]\n",
            " [ 2.50794468e-01 -1.14499999e-01 -2.19689662e-01 -7.83246427e-02\n",
            "  -1.21878961e-01  1.38407907e-02  3.83655582e-02  6.78445728e-02\n",
            "   2.27019708e-01  3.96103601e-02]\n",
            " [ 2.04369391e-01  2.91299125e-01 -3.62881047e-03 -2.91039860e-02\n",
            "   6.47641806e-03 -1.86881992e-02 -1.18386850e-01 -4.16794102e-03\n",
            "   8.62006526e-02 -4.16816757e-02]\n",
            " [ 1.78496603e-01 -1.19603296e-01 -1.49487717e-01  3.30892766e-02\n",
            "  -1.43263681e-01 -1.28777070e-01 -7.72741040e-02 -7.91922163e-02\n",
            "  -2.05782094e-01  2.78328074e-02]\n",
            " [ 1.49585079e-01  1.92660556e-01 -4.52483214e-02 -8.50913059e-03\n",
            "   2.50389915e-02  6.94484891e-02  4.76909632e-01 -3.34589227e-02\n",
            "  -1.34778703e-01  1.54999713e-01]\n",
            " [ 2.74043607e-01  4.95824917e-01 -2.21079290e-02 -4.75534381e-02\n",
            "   4.07449853e-02 -4.63955880e-02 -2.36299676e-01  2.04035455e-02\n",
            "   1.36094950e-01  2.84315749e-02]\n",
            " [ 2.94477494e-01 -8.47813263e-02 -2.28275684e-02 -2.41171276e-01\n",
            "   1.04512145e-01  1.18531949e-02  9.11204900e-02 -1.49163931e-01\n",
            "   1.29853626e-01 -3.49765001e-01]\n",
            " [ 2.34294364e-01 -8.09990080e-02  2.29914977e-01  4.86015814e-02\n",
            "  -8.94170556e-02  1.01059824e-02 -1.60165038e-02  2.89416748e-01\n",
            "  -2.27975098e-01  1.72042993e-02]\n",
            " [ 1.97637287e-01  4.17258813e-02  4.57717017e-02  7.92391949e-02\n",
            "   2.89243524e-03  1.65851194e-02  3.48203664e-02  4.15179400e-03\n",
            "  -1.11790600e-03 -6.88657022e-03]\n",
            " [ 1.94770473e-01 -2.88530691e-02  8.30178657e-02  8.51979104e-03\n",
            "  -1.68632175e-01 -8.24308886e-02 -6.35607350e-02  2.18705459e-01\n",
            "  -1.59777492e-01  5.69103362e-02]\n",
            " [ 1.46488216e-01 -7.05876028e-02 -1.57042494e-01  2.78905569e-01\n",
            "   1.13275275e-01  3.25601851e-02  2.92898344e-03  7.37734949e-02\n",
            "   5.40506756e-02  6.36752402e-02]\n",
            " [ 1.26555839e-01 -1.60338234e-03  1.76499726e-01  1.24413816e-01\n",
            "  -1.44745496e-01 -1.05488117e-01  2.22628048e-02 -1.36610924e-01\n",
            "   9.09844241e-02  7.97219084e-02]\n",
            " [ 2.15116323e-01 -6.25561785e-02 -3.23614353e-02  2.37359366e-02\n",
            "  -1.03066190e-01  2.14948348e-01 -1.99694042e-02  2.44909178e-02\n",
            "   5.31724317e-02 -2.00845073e-02]\n",
            " [ 1.73385060e-01 -4.08798053e-02  1.62814685e-01  3.77581959e-02\n",
            "  -6.14896644e-02  3.89908048e-03  1.25173741e-02  2.19729256e-01\n",
            "  -1.58961010e-01 -4.10545013e-02]\n",
            " [ 1.99568069e-01  6.89979449e-02  5.75777001e-03  4.44569240e-02\n",
            "  -5.14524567e-02 -1.40046274e-01 -2.08907799e-01  2.77570071e-04\n",
            "  -2.23311833e-01 -1.55815808e-01]\n",
            " [ 1.79332029e-01 -3.12957650e-02  3.25397240e-01  1.69637077e-01\n",
            "  -1.92141124e-01 -1.50031727e-01  6.03943000e-02 -1.18723667e-01\n",
            "   1.65903301e-01  1.93385396e-02]\n",
            " [ 2.15846504e-01  1.00751904e-01 -4.63243395e-02  8.57180380e-02\n",
            "  -6.77992902e-02 -1.94632005e-01 -2.65300704e-01 -5.97565168e-02\n",
            "  -2.53463511e-01 -6.62783019e-02]\n",
            " [ 9.64571311e-02 -1.38031299e-02  6.78143899e-03  2.52576462e-01\n",
            "   1.54390664e-01  3.99057013e-02  5.38198714e-02  7.05183606e-02\n",
            "   7.22596349e-02 -1.20751644e-01]\n",
            " [ 2.73669524e-01 -1.27282765e-01  2.78821034e-01 -1.41371589e-01\n",
            "   1.69127662e-01  9.31803576e-02 -2.68831640e-02  2.70138978e-01\n",
            "  -1.52371047e-01  7.34445992e-02]\n",
            " [ 1.46359221e-01 -2.07865787e-02  4.98447717e-02  5.60559831e-02\n",
            "  -5.05193915e-02  1.04324928e-01  1.63445577e-02 -1.31771978e-02\n",
            "   1.73043769e-02 -6.05040008e-02]\n",
            " [ 3.00034560e-01  5.69324357e-01 -3.14453241e-03 -5.67865470e-02\n",
            "   5.06340751e-02 -5.99797772e-02 -2.35945928e-01  2.55667767e-02\n",
            "   1.13841705e-01  3.10104121e-02]\n",
            " [ 1.44368980e-01 -6.89049496e-02 -3.45488870e-02 -1.18053499e-02\n",
            "  -6.85605651e-02  3.64623255e-03  5.55548691e-02  9.11374587e-02\n",
            "   7.10968838e-03 -1.00256249e-01]\n",
            " [ 3.49660699e-01 -1.61740434e-01  4.56130419e-02 -4.39043236e-04\n",
            "  -1.44394558e-01  8.97904960e-02 -2.16043271e-02  2.92661899e-01\n",
            "  -1.86868104e-01  1.20630267e-01]\n",
            " [ 1.30345466e-01 -6.80829814e-02 -8.14905139e-02 -2.94581361e-02\n",
            "  -8.10547900e-02 -2.03994389e-02  1.85509509e-02  1.03518233e-02\n",
            "   2.29209307e-02  5.69158059e-02]\n",
            " [ 4.23198221e-02 -1.96722040e-02  3.66254971e-02  5.39252502e-03\n",
            "  -1.09301997e-02 -1.21464505e-02  2.73175844e-05  1.21386587e-02\n",
            "   2.16552766e-02  9.65428367e-03]\n",
            " [ 2.82917241e-01 -1.96826865e-01 -2.23990357e-01 -1.49303089e-01\n",
            "  -5.14556393e-02 -7.68639732e-03  5.77153884e-02  1.03751171e-01\n",
            "   5.33678854e-02 -6.26288189e-02]\n",
            " [ 4.14143810e-01  5.45387974e-01 -9.87647071e-02 -6.57175952e-02\n",
            "   1.07789772e-02 -9.09576885e-02 -2.84296293e-01  4.45915919e-02\n",
            "   7.32181981e-03 -6.48366828e-02]\n",
            " [ 2.10206215e-01  1.65502063e-01 -2.30120006e-02 -1.54993820e-02\n",
            "   1.60759617e-02  3.03372377e-02  2.18779807e-01 -1.96287396e-02\n",
            "  -6.91154428e-02  1.36722825e-02]\n",
            " [ 1.76708978e-01 -3.64721302e-02  2.85193186e-01  1.41910004e-01\n",
            "  -1.48286807e-01 -1.64776748e-01  7.00591690e-02 -1.96680654e-01\n",
            "   2.15025869e-01 -2.27864995e-02]\n",
            " [ 1.63887891e-01  4.27555564e-02  3.86782324e-02  8.15779345e-02\n",
            "   4.21723371e-02  3.16259966e-02 -5.78456659e-02  1.63365843e-02\n",
            "   2.48199545e-02 -1.79233061e-01]\n",
            " [ 1.37996243e-01 -4.45858630e-02  5.40294717e-02  6.66354500e-02\n",
            "  -8.78601994e-02 -1.05593494e-01 -4.98372558e-02 -1.27281460e-01\n",
            "  -3.54575282e-03  6.25488208e-02]\n",
            " [ 1.70548819e-01 -5.32693838e-02  2.61535551e-01  8.14434804e-02\n",
            "  -8.58131131e-02 -9.60508975e-02  4.65278717e-02 -5.90743767e-02\n",
            "   1.01997126e-01 -4.79405233e-02]\n",
            " [ 1.62238731e-01 -3.97932591e-02  5.44137680e-04 -3.56560476e-03\n",
            "  -9.77101752e-02 -3.73485299e-02  9.42242648e-02 -9.47422157e-02\n",
            "  -7.63013239e-03 -2.06238327e-01]\n",
            " [ 2.73492181e-01 -1.26642313e-01 -1.58147036e-01 -1.30223750e-01\n",
            "  -7.37717069e-02 -8.48265050e-02  8.74430664e-02 -1.12836652e-01\n",
            "   5.08391364e-02 -2.09701604e-01]\n",
            " [ 3.25212212e-01 -1.41942358e-01 -2.62730953e-01 -5.42655242e-02\n",
            "  -7.51377012e-02 -6.26631619e-02 -2.98554831e-02  5.62390432e-02\n",
            "  -5.69033890e-02 -7.45840633e-02]\n",
            " [ 2.06729145e-01 -1.14611029e-01 -1.51006309e-01  2.05302175e-01\n",
            "   7.19630840e-02 -5.24763187e-02 -1.94569083e-02 -4.81644248e-02\n",
            "  -9.63281701e-02  2.33038479e-01]\n",
            " [ 1.01083706e-01 -2.20668670e-02 -1.22303001e-02  6.47666510e-02\n",
            "  -1.58738703e-01  5.49419664e-01 -1.35089557e-01 -2.60734931e-01\n",
            "  -1.94079386e-02  2.51428882e-02]\n",
            " [ 3.77479912e-01 -2.48628503e-01  2.42100806e-01 -3.15916823e-01\n",
            "   4.56082517e-01 -2.50604947e-03 -7.97900521e-02 -1.29883831e-01\n",
            "   8.92503778e-02  7.42098725e-02]\n",
            " [ 2.82265044e-01 -1.36446639e-01 -1.80848196e-01 -1.56666969e-01\n",
            "  -6.90156471e-02 -2.46507160e-02  6.96747424e-02  4.72485233e-02\n",
            "   7.69823410e-02 -1.44596224e-01]\n",
            " [ 2.82777231e-01 -7.49020904e-02  3.34617833e-01 -4.42688549e-02\n",
            "   3.31369193e-02 -3.24773069e-04 -4.05251065e-02  3.11958770e-01\n",
            "  -1.95936812e-01  1.18428338e-01]\n",
            " [ 2.45609280e-01 -1.69512866e-01 -2.35036825e-01 -1.43826865e-02\n",
            "  -1.23764359e-01 -3.68327917e-02 -3.22962323e-02  5.86310771e-02\n",
            "  -1.00798844e-01  8.82355505e-02]\n",
            " [ 2.80921719e-01 -2.00326120e-01 -2.78969978e-01 -8.06603376e-02\n",
            "  -1.06276121e-01 -3.10812872e-02 -5.82544590e-02  6.54454497e-02\n",
            "  -3.32987239e-02  7.62978919e-02]\n",
            " [ 2.04949386e-01 -1.23929524e-01 -1.62194331e-01  7.03593512e-03\n",
            "  -2.19619059e-01  4.21719339e-02 -4.07154180e-02  2.36421555e-01\n",
            "   4.64709116e-01  3.45770972e-01]\n",
            " [ 3.08910416e-01  3.79611603e-01 -5.20395743e-02 -7.52439793e-02\n",
            "   2.84449759e-02  7.47248692e-02  6.81486762e-01 -5.21649885e-02\n",
            "  -1.64356013e-01  1.63621785e-01]\n",
            " [ 2.48706348e-01 -1.14357712e-01 -2.00279485e-01 -6.95395996e-03\n",
            "  -2.34985483e-01  8.12803717e-02 -3.99223738e-02  2.28366094e-01\n",
            "   5.00452123e-01  3.54414934e-01]\n",
            " [ 1.94789710e-01 -1.70449018e-02  3.69101857e-02  2.43417773e-02\n",
            "  -7.75159708e-03  3.48770164e-02  7.09069401e-03  8.37645679e-02\n",
            "  -5.65015934e-02 -1.08239601e-03]\n",
            " [ 1.72160871e-01  9.45473614e-02  1.86484180e-02 -4.22529592e-03\n",
            "   2.93898643e-03  2.59503470e-02  3.89139894e-02  1.44740274e-02\n",
            "  -3.38878433e-03  2.27687670e-02]\n",
            " [ 1.41091014e-01 -5.38692449e-02  3.44567708e-02  5.43103946e-02\n",
            "  -9.00565429e-02  3.72593517e-01 -7.66592339e-02 -3.76863643e-02\n",
            "  -6.61877736e-02  5.89836639e-02]]\n",
            "(92, 10)\n"
          ]
        }
      ],
      "source": [
        "print(lsa_top)\n",
        "print(lsa_top.shape)  # (no_of_doc*no_of_topics)"
      ]
    },
    {
      "cell_type": "code",
      "execution_count": 30,
      "metadata": {
        "_uuid": "2a259e5f3b8c11118368439eea8de0faa8b7a1c2",
        "id": "d4dvIGIGxtAI",
        "colab": {
          "base_uri": "https://localhost:8080/"
        },
        "outputId": "bb2c5135-c5c9-4b8b-9fc7-129a3c1e2a13"
      },
      "outputs": [
        {
          "output_type": "stream",
          "name": "stdout",
          "text": [
            "Document 0 :\n",
            "Topic  0  :  21.9197403444855\n",
            "Topic  1  :  -1.7021104044987774\n",
            "Topic  2  :  5.145568852883142\n",
            "Topic  3  :  9.58213041967027\n",
            "Topic  4  :  -15.92532604495281\n",
            "Topic  5  :  71.02360712643646\n",
            "Topic  6  :  -14.787161602895734\n",
            "Topic  7  :  -25.145737937352497\n",
            "Topic  8  :  -9.178801548761582\n",
            "Topic  9  :  1.2842240547175472\n"
          ]
        }
      ],
      "source": [
        "l=lsa_top[0]\n",
        "print(\"Document 0 :\")\n",
        "for i,topic in enumerate(l):\n",
        "  print(\"Topic \",i,\" : \",topic*100)\n",
        "  \n"
      ]
    },
    {
      "cell_type": "markdown",
      "metadata": {
        "_uuid": "2153bcbf45e7623efc213bb94f0dbba377ff34c3",
        "id": "SLXnKO4bKHeG"
      },
      "source": [
        "Mirip dengan dokumen lain kita bisa melakukan ini. Namun perhatikan bahwa nilai tidak menambah 1 seperti di LSA itu bukan kemungkinan topik dalam dokumen."
      ]
    },
    {
      "cell_type": "code",
      "execution_count": 31,
      "metadata": {
        "_uuid": "61bb8ff8b4b6cf0cd2fcde7890f3a3ebb8980452",
        "id": "AI2kOuwitOGp",
        "colab": {
          "base_uri": "https://localhost:8080/"
        },
        "outputId": "7d5c6ce7-3733-4e3e-de68-5bf4eb2cb408"
      },
      "outputs": [
        {
          "output_type": "stream",
          "name": "stdout",
          "text": [
            "(10, 1000)\n",
            "[[ 0.00951306  0.01813183  0.01196229 ...  0.02253667  0.01368865\n",
            "   0.01281185]\n",
            " [-0.00426404  0.01167294  0.00583792 ... -0.02642902 -0.01035341\n",
            "   0.03009457]\n",
            " [ 0.00486915  0.02768925  0.01360272 ... -0.04537793 -0.00828642\n",
            "  -0.0054632 ]\n",
            " ...\n",
            " [ 0.01348743 -0.01773106 -0.02017921 ...  0.01429967  0.02152899\n",
            "   0.0030291 ]\n",
            " [-0.00558222  0.02046885  0.00018046 ... -0.00726396  0.00300209\n",
            "   0.00240469]\n",
            " [-0.0100132  -0.00147725  0.00172137 ...  0.0173973   0.00997085\n",
            "  -0.0053492 ]]\n"
          ]
        }
      ],
      "source": [
        "print(lsa_model.components_.shape) # (no_of_topics*no_of_words)\n",
        "print(lsa_model.components_)"
      ]
    },
    {
      "cell_type": "markdown",
      "metadata": {
        "_uuid": "a289f6e017d0c573d20ed386582df71437fab5cc",
        "id": "03pgcRRHKHeH"
      },
      "source": [
        "Proses untuk mendapatkan daftar kata-kata penting untuk masing-masing dari 10 topik seperti yang ditunjukkan. Untuk kesederhanaan di sini saya telah menunjukkan 10 kata untuk setiap topik."
      ]
    },
    {
      "cell_type": "code",
      "execution_count": 32,
      "metadata": {
        "_uuid": "c9860197f6d11e5583629cca322e19a93d4c0350",
        "id": "GMMmSTbQqfdz",
        "colab": {
          "base_uri": "https://localhost:8080/"
        },
        "outputId": "58115cd8-48d7-4d8e-f8fe-0d2edb12c06c"
      },
      "outputs": [
        {
          "output_type": "stream",
          "name": "stdout",
          "text": [
            "Topic 0: \n",
            "sistem citra data informasi metode siswa prose hasil nilai penelitian \n",
            "\n",
            "Topic 1: \n",
            "citra batik tulisan tangan pengenalan fitur ekstraksi tekstur manusia gambar \n",
            "\n",
            "Topic 2: \n",
            "produksi kriteria beasiswa metode siswa perusahaan periode mesin alternatif nilai \n",
            "\n",
            "Topic 3: \n",
            "game pembelajaran mobile produksi teknologi android gerakan reality sapi virtual \n",
            "\n",
            "Topic 4: \n",
            "siswa game beasiswa pembelajaran virtual kriteria alternatif rating class pendidikan \n",
            "\n",
            "Topic 5: \n",
            "gizi status pasien balita hamil penentuan makanan aplikasi normal probabilitas \n",
            "\n",
            "Topic 6: \n",
            "tangan tulisan pengenalan telapak data karakter carakan huruf prose senyum \n",
            "\n",
            "Topic 7: \n",
            "karyawan kriteria beasiswa game perusahaan arsitektur pelanggan penilaian sistem enterprise \n",
            "\n",
            "Topic 8: \n",
            "arsitektur enterprise produksi bangkalan togaf siswa pelayanan data game citra \n",
            "\n",
            "Topic 9: \n",
            "arsitektur pembelajaran reality virtual enterprise tangan togaf bangkalan teknologi kriteria \n",
            "\n"
          ]
        },
        {
          "output_type": "stream",
          "name": "stderr",
          "text": [
            "/usr/local/lib/python3.7/dist-packages/sklearn/utils/deprecation.py:87: FutureWarning: Function get_feature_names is deprecated; get_feature_names is deprecated in 1.0 and will be removed in 1.2. Please use get_feature_names_out instead.\n",
            "  warnings.warn(msg, category=FutureWarning)\n"
          ]
        }
      ],
      "source": [
        "# most important words for each topic\n",
        "vocab = vect.get_feature_names()\n",
        "\n",
        "for i, comp in enumerate(lsa_model.components_):\n",
        "    vocab_comp = zip(vocab, comp)\n",
        "    sorted_words = sorted(vocab_comp, key= lambda x:x[1], reverse=True)[:10]\n",
        "    print(\"Topic \"+str(i)+\": \")\n",
        "    for t in sorted_words:\n",
        "        print(t[0],end=\" \")\n",
        "    print(\"\\n\")\n",
        "         "
      ]
    },
    {
      "cell_type": "markdown",
      "metadata": {
        "_uuid": "2898911f7af52671923cf6bbc8cab6bc7871aa59",
        "id": "gmMeb4METhm2"
      },
      "source": [
        "#### 2. Latent Dirichlet Allocation (LDA)  "
      ]
    },
    {
      "cell_type": "markdown",
      "metadata": {
        "_uuid": "dd861ec68f8272be78421f8bd76b98793009e836",
        "id": "dVbE_EVbKHeH"
      },
      "source": [
        "**Latent Dirichlet Allocation** merupakan model generatif yaitu model yang menghasilkan distribusi output dan input didasarkan pada variabel-variabel latent.\n",
        "\n",
        "LDA adalah teknik yang paling populer. Topik kemudian menghasilkan kata berdasarkan distribusi probabilitasnya. Mengingat kumpulan data dokumen, LDA mundur dan mencoba mencari tahu topik apa yang akan membuat dokumen tersebut di tempat pertama.\n",
        "\n",
        "Untuk memahami matematika sepertinya diperlukan pengetahuan tentang distribusi Dirichlet (distribusi distribusi) yang cukup rumit dan ditinggalkan untuk saat ini."
      ]
    },
    {
      "cell_type": "markdown",
      "source": [
        "Rumus LDA :"
      ],
      "metadata": {
        "id": "ipwPwZGVinIK"
      }
    },
    {
      "cell_type": "markdown",
      "source": [
        "\\begin{equation}\n",
        "p(D \\mid a, \\beta)=\\prod_{d=1}^{M} \\int p\\left(\\theta_{\\mathrm{d}} \\mid \\alpha\\right)\\left(\\prod_{n=1}^{N_{\\mathrm{d}}} \\sum_{Z_{\\mathrm{dn}}} p\\left(Z_{\\mathrm{dn}} \\mid \\theta_{\\mathrm{d}}\\right) p\\left(W_{\\mathrm{dn}} \\mid Z_{\\mathrm{dn}}, \\beta\\right)\\right) d \\theta_{\\mathrm{d}}\n",
        "\\end{equation}"
      ],
      "metadata": {
        "id": "MSiAngMRif5i"
      }
    },
    {
      "cell_type": "code",
      "execution_count": 33,
      "metadata": {
        "_uuid": "b21a29802cac8f469c65df49ba0ef04f592f3202",
        "id": "yPJFHVxxTiwh"
      },
      "outputs": [],
      "source": [
        "from sklearn.decomposition import LatentDirichletAllocation\n",
        "lda_model=LatentDirichletAllocation(n_components=10,learning_method='online',random_state=42,max_iter=1) \n",
        "# n_components is the number of topics"
      ]
    },
    {
      "cell_type": "code",
      "execution_count": 34,
      "metadata": {
        "_uuid": "8c0169b02a356e8cf8583218437d23f549c1e3da",
        "id": "aeUPTUUIazvB"
      },
      "outputs": [],
      "source": [
        "lda_top=lda_model.fit_transform(vect_text)"
      ]
    },
    {
      "cell_type": "code",
      "execution_count": 35,
      "metadata": {
        "_uuid": "77425315af5c000fa30caefd6dcebb70c2970cfa",
        "id": "h8LzsFixdkBt",
        "colab": {
          "base_uri": "https://localhost:8080/"
        },
        "outputId": "fe9dcc79-b1d2-4fd9-d231-200593dff910"
      },
      "outputs": [
        {
          "output_type": "stream",
          "name": "stdout",
          "text": [
            "(92, 10)\n",
            "[[0.01760606 0.01760575 0.84154508 0.01760615 0.01760634 0.0176062\n",
            "  0.01760619 0.01760596 0.01760613 0.01760614]\n",
            " [0.01952484 0.01952471 0.01952463 0.01952486 0.01952487 0.01952494\n",
            "  0.82427644 0.01952482 0.01952491 0.01952497]\n",
            " [0.02020836 0.02020582 0.02020633 0.02020595 0.81814349 0.02020593\n",
            "  0.02020633 0.02020579 0.02020603 0.02020596]\n",
            " [0.02234554 0.02234515 0.79889185 0.02234527 0.02234549 0.02234541\n",
            "  0.02234499 0.02234519 0.02234494 0.02234617]\n",
            " [0.85192822 0.01645238 0.01645251 0.01645241 0.01645244 0.0164522\n",
            "  0.0164523  0.01645233 0.01645248 0.01645274]\n",
            " [0.01671591 0.01671605 0.01671618 0.84955564 0.01671616 0.01671597\n",
            "  0.01671642 0.01671616 0.01671563 0.01671589]\n",
            " [0.02000918 0.02000852 0.02000889 0.0200083  0.02000821 0.02000867\n",
            "  0.02000854 0.02000891 0.81992183 0.02000895]\n",
            " [0.01952551 0.01952591 0.01952581 0.01952584 0.01952538 0.01952641\n",
            "  0.82426795 0.01952584 0.0195258  0.01952554]\n",
            " [0.01532324 0.01532288 0.01532288 0.01532453 0.01532262 0.01532279\n",
            "  0.01532292 0.86209249 0.01532284 0.01532281]\n",
            " [0.01715688 0.01715627 0.0171562  0.01715599 0.01715641 0.01715651\n",
            "  0.01715633 0.01715643 0.84559297 0.01715602]\n",
            " [0.01885253 0.01885201 0.01885251 0.01885232 0.0188523  0.01885237\n",
            "  0.01885208 0.8303286  0.01885249 0.01885279]\n",
            " [0.02230127 0.02230139 0.0223013  0.02230095 0.02230099 0.02230095\n",
            "  0.02230105 0.02230117 0.02230306 0.79928787]\n",
            " [0.0228169  0.02281726 0.0228174  0.02281695 0.02281698 0.02281684\n",
            "  0.02281747 0.02281749 0.02281735 0.79464538]\n",
            " [0.81824568 0.02019458 0.02019537 0.02019485 0.02019445 0.02019525\n",
            "  0.02019458 0.02019494 0.02019536 0.02019495]\n",
            " [0.84624908 0.01708327 0.01708331 0.01708359 0.01708379 0.01708314\n",
            "  0.01708365 0.01708327 0.0170835  0.0170834 ]\n",
            " [0.01469364 0.014693   0.01469325 0.01469295 0.01469314 0.01469304\n",
            "  0.014693   0.01469318 0.01469313 0.86776167]\n",
            " [0.82399712 0.0195556  0.019556   0.01955585 0.01955569 0.01955564\n",
            "  0.0195563  0.01955595 0.01955588 0.01955596]\n",
            " [0.8531826  0.016313   0.01631309 0.0163127  0.0163129  0.01631286\n",
            "  0.01631296 0.01631332 0.0163132  0.01631337]\n",
            " [0.86615414 0.01487172 0.01487183 0.01487189 0.0148716  0.01487188\n",
            "  0.01487162 0.0148719  0.01487174 0.01487169]\n",
            " [0.01592307 0.01592273 0.01592294 0.0159229  0.01592297 0.01592292\n",
            "  0.01592305 0.01592302 0.85669339 0.01592302]\n",
            " [0.01734357 0.01734341 0.01734423 0.84390915 0.01734335 0.01734339\n",
            "  0.01734335 0.01734322 0.01734304 0.01734329]\n",
            " [0.01670569 0.01670565 0.01670559 0.01670599 0.0167056  0.01670583\n",
            "  0.84964876 0.01670549 0.01670579 0.01670561]\n",
            " [0.01605031 0.01604994 0.01605021 0.01604998 0.01604991 0.01605013\n",
            "  0.85554796 0.01605161 0.01605    0.01604995]\n",
            " [0.01345133 0.01345137 0.01345133 0.01345134 0.01345169 0.01345141\n",
            "  0.01345157 0.87893728 0.01345128 0.01345139]\n",
            " [0.84790865 0.01689909 0.01689896 0.01689935 0.01689881 0.01689931\n",
            "  0.01689897 0.01689904 0.01689893 0.01689889]\n",
            " [0.01663659 0.01663634 0.01663628 0.85027101 0.01663638 0.01663724\n",
            "  0.01663645 0.01663667 0.01663666 0.01663639]\n",
            " [0.01825833 0.83567458 0.01825803 0.01825845 0.01825845 0.01825847\n",
            "  0.01825867 0.01825824 0.01825834 0.01825845]\n",
            " [0.01567166 0.01567134 0.0156714  0.01567132 0.01567128 0.01567137\n",
            "  0.01567139 0.01567313 0.85895598 0.01567112]\n",
            " [0.01652363 0.01652376 0.01652448 0.01652364 0.01652363 0.01652356\n",
            "  0.8512858  0.01652374 0.01652363 0.01652413]\n",
            " [0.01757241 0.01757236 0.01757276 0.01757277 0.01757241 0.01757281\n",
            "  0.84184659 0.01757252 0.01757275 0.01757264]\n",
            " [0.01622751 0.01622701 0.01622726 0.01622741 0.01622698 0.85395149\n",
            "  0.01622776 0.01622964 0.01622776 0.01622718]\n",
            " [0.01491781 0.01491783 0.01491786 0.0149177  0.01491775 0.86573937\n",
            "  0.01491776 0.01491836 0.01491793 0.01491762]\n",
            " [0.0168428  0.01684252 0.01684259 0.01684234 0.01684447 0.01684255\n",
            "  0.01684268 0.01684268 0.84841479 0.01684257]\n",
            " [0.0163887  0.01638854 0.01638846 0.85250279 0.01638843 0.01638857\n",
            "  0.01638875 0.01638861 0.01638879 0.01638837]\n",
            " [0.01551531 0.01551513 0.01551513 0.01551528 0.01551534 0.01551502\n",
            "  0.86036251 0.01551552 0.01551568 0.01551509]\n",
            " [0.01471494 0.86756627 0.01471476 0.01471466 0.01471476 0.01471482\n",
            "  0.01471498 0.01471482 0.01471488 0.01471511]\n",
            " [0.01624564 0.01624537 0.01624553 0.01624555 0.01624578 0.01624541\n",
            "  0.01624578 0.01624589 0.85378972 0.01624533]\n",
            " [0.01646583 0.01646612 0.016466   0.01646616 0.01646655 0.01646615\n",
            "  0.85180486 0.01646612 0.01646625 0.01646597]\n",
            " [0.01679881 0.0167975  0.01679791 0.0167977  0.01679781 0.01679758\n",
            "  0.8488194  0.01679769 0.01679781 0.01679779]\n",
            " [0.01975794 0.01975809 0.82217735 0.01975799 0.01975785 0.01975871\n",
            "  0.01975836 0.0197579  0.01975805 0.01975776]\n",
            " [0.01487105 0.01487079 0.01487106 0.01487085 0.01487089 0.0148732\n",
            "  0.01487093 0.86615931 0.01487108 0.01487083]\n",
            " [0.0153826  0.01538207 0.01538234 0.86156058 0.01538206 0.0153819\n",
            "  0.01538217 0.01538185 0.01538237 0.01538206]\n",
            " [0.01441457 0.01441466 0.01441432 0.01441452 0.01441431 0.01441453\n",
            "  0.01441432 0.87027011 0.01441436 0.01441432]\n",
            " [0.01891349 0.01891332 0.01891352 0.01891355 0.0189129  0.82977912\n",
            "  0.01891329 0.01891326 0.01891436 0.0189132 ]\n",
            " [0.0149072  0.01490704 0.01490718 0.01490725 0.01490686 0.01490685\n",
            "  0.01490717 0.01490703 0.86583639 0.01490703]\n",
            " [0.0200444  0.02004404 0.02004445 0.02004413 0.81960113 0.02004424\n",
            "  0.02004456 0.02004437 0.02004444 0.02004424]\n",
            " [0.01455584 0.01455585 0.01455557 0.01455579 0.01455543 0.01455572\n",
            "  0.01455563 0.01455549 0.01455575 0.86899892]\n",
            " [0.01847909 0.01847878 0.01847872 0.01847932 0.01847871 0.01847873\n",
            "  0.01847853 0.01847893 0.83369029 0.01847891]\n",
            " [0.02314935 0.02314916 0.02314924 0.02314889 0.02314936 0.02314881\n",
            "  0.79165787 0.02314896 0.02314926 0.02314909]\n",
            " [0.83404807 0.018439   0.01843879 0.01843893 0.01843876 0.01843917\n",
            "  0.01843886 0.01843893 0.01844044 0.01843905]\n",
            " [0.8532051  0.01631043 0.01631052 0.01631049 0.01631043 0.01631107\n",
            "  0.01631049 0.01631034 0.01631058 0.01631054]\n",
            " [0.01335565 0.01335527 0.01335529 0.01335549 0.87980077 0.01335552\n",
            "  0.01335549 0.01335553 0.01335539 0.0133556 ]\n",
            " [0.83742618 0.01806324 0.01806365 0.01806364 0.0180633  0.01806362\n",
            "  0.01806379 0.01806356 0.01806518 0.01806383]\n",
            " [0.01880001 0.01879933 0.01879961 0.01879946 0.83080334 0.01879953\n",
            "  0.01879967 0.01879999 0.01879961 0.01879945]\n",
            " [0.01617246 0.01617212 0.85444878 0.01617234 0.0161726  0.01617245\n",
            "  0.01617267 0.01617217 0.01617239 0.01617202]\n",
            " [0.01510694 0.01510682 0.01510677 0.01510691 0.01510761 0.86403715\n",
            "  0.01510687 0.01510714 0.01510692 0.01510687]\n",
            " [0.0173413  0.01734022 0.01734014 0.01734017 0.01734023 0.01733967\n",
            "  0.01734018 0.84393811 0.01733999 0.01733998]\n",
            " [0.85792984 0.01578537 0.01578573 0.01578554 0.01578562 0.01578562\n",
            "  0.01578587 0.01578542 0.01578552 0.01578548]\n",
            " [0.01618741 0.01618736 0.01618736 0.85431277 0.01618743 0.01618763\n",
            "  0.01618757 0.01618742 0.01618759 0.01618746]\n",
            " [0.01679065 0.01679074 0.84888367 0.01679055 0.01679057 0.01679061\n",
            "  0.0167909  0.01679087 0.0167907  0.01679073]\n",
            " [0.01478612 0.01478567 0.01478596 0.86692684 0.01478589 0.01478604\n",
            "  0.01478583 0.01478588 0.01478596 0.0147858 ]\n",
            " [0.02072526 0.02072484 0.02072489 0.02072495 0.02072458 0.02072448\n",
            "  0.02072547 0.81347572 0.02072489 0.02072492]\n",
            " [0.01486013 0.86625996 0.01486    0.01485988 0.01485977 0.01486012\n",
            "  0.01485995 0.01486023 0.01486002 0.01485994]\n",
            " [0.01795174 0.01795181 0.01795166 0.83843376 0.01795156 0.0179514\n",
            "  0.01795191 0.01795266 0.01795195 0.01795155]\n",
            " [0.01787307 0.01787073 0.01787123 0.0178711  0.01787065 0.01787146\n",
            "  0.01787108 0.01787097 0.83915895 0.01787076]\n",
            " [0.01586816 0.01586798 0.01586837 0.01586787 0.01586782 0.01586767\n",
            "  0.85718824 0.01586794 0.01586787 0.01586809]\n",
            " [0.01574205 0.01574187 0.01574202 0.01574196 0.85832201 0.01574195\n",
            "  0.01574188 0.0157424  0.015742   0.01574187]\n",
            " [0.02635289 0.02635287 0.02635372 0.02635316 0.02635276 0.02635304\n",
            "  0.02635305 0.76282075 0.02635505 0.02635271]\n",
            " [0.02208216 0.02208196 0.02208225 0.8012599  0.02208233 0.02208239\n",
            "  0.02208233 0.02208219 0.02208284 0.02208165]\n",
            " [0.01593407 0.01593351 0.01593587 0.85659506 0.01593368 0.01593346\n",
            "  0.01593349 0.01593353 0.01593373 0.01593361]\n",
            " [0.87564359 0.01381738 0.01381745 0.01381772 0.01381725 0.01381743\n",
            "  0.01381726 0.01381736 0.01381726 0.01381732]\n",
            " [0.83591396 0.01823193 0.01823157 0.01823189 0.01823149 0.01823183\n",
            "  0.01823167 0.01823175 0.01823209 0.01823181]\n",
            " [0.01665196 0.01665183 0.01665219 0.01665199 0.01665203 0.01665214\n",
            "  0.01665192 0.01665221 0.85013153 0.01665219]\n",
            " [0.01724022 0.01723997 0.84483978 0.01724    0.01724019 0.01724004\n",
            "  0.01724021 0.0172399  0.01723979 0.0172399 ]\n",
            " [0.84912994 0.01676318 0.01676322 0.01676359 0.01676354 0.01676329\n",
            "  0.01676341 0.01676323 0.01676328 0.01676333]\n",
            " [0.0173473  0.0173473  0.84386936 0.01734717 0.01734748 0.01734751\n",
            "  0.01734746 0.01734746 0.01735144 0.01734752]\n",
            " [0.02022484 0.02022511 0.02022513 0.02022496 0.02022509 0.0202248\n",
            "  0.02022528 0.02022515 0.02022518 0.81797446]\n",
            " [0.0161712  0.01617064 0.85446088 0.01617141 0.01617111 0.01617076\n",
            "  0.01617093 0.01617112 0.01617099 0.01617096]\n",
            " [0.01494534 0.86549416 0.0149451  0.0149452  0.01494503 0.01494496\n",
            "  0.01494523 0.0149449  0.01494504 0.01494504]\n",
            " [0.84967422 0.01670292 0.0167031  0.01670289 0.01670278 0.01670275\n",
            "  0.01670296 0.01670285 0.01670292 0.0167026 ]\n",
            " [0.01850965 0.01850999 0.83341041 0.01850961 0.01851093 0.01850993\n",
            "  0.01850992 0.01850997 0.01850975 0.01850984]\n",
            " [0.01609095 0.01609056 0.01609061 0.01609064 0.01609042 0.01609063\n",
            "  0.01609047 0.01609112 0.85518403 0.01609056]\n",
            " [0.01536799 0.01536798 0.86168556 0.01536787 0.01536798 0.01536865\n",
            "  0.01536795 0.01536792 0.01536783 0.01537026]\n",
            " [0.01610838 0.01610817 0.01610829 0.01610806 0.01610851 0.85502459\n",
            "  0.01610924 0.01610841 0.0161082  0.01610814]\n",
            " [0.85400445 0.01622173 0.01622174 0.01622179 0.01622187 0.01622151\n",
            "  0.01622175 0.01622166 0.01622174 0.01622175]\n",
            " [0.85865402 0.01570481 0.01570485 0.01570486 0.01570484 0.01570464\n",
            "  0.01570481 0.01570484 0.01570458 0.01570775]\n",
            " [0.01694644 0.01694624 0.84748141 0.01694656 0.01694651 0.01694654\n",
            "  0.01694684 0.01694659 0.01694656 0.01694631]\n",
            " [0.83396982 0.01844752 0.01844761 0.01844737 0.01844771 0.01844759\n",
            "  0.01844782 0.0184478  0.01844771 0.01844905]\n",
            " [0.01751686 0.01751651 0.01751913 0.01751676 0.01751655 0.01751677\n",
            "  0.84234797 0.01751656 0.01751658 0.01751631]\n",
            " [0.01678862 0.01678846 0.01678852 0.01678817 0.01678926 0.84890324\n",
            "  0.01678859 0.01678825 0.01678861 0.01678829]\n",
            " [0.01749218 0.01749215 0.01749189 0.0174918  0.01749182 0.01749234\n",
            "  0.01749186 0.01749195 0.01749215 0.84257186]\n",
            " [0.01947661 0.01947652 0.01947781 0.01947701 0.0194769  0.01947691\n",
            "  0.01947688 0.01947688 0.01947684 0.82470764]]\n"
          ]
        }
      ],
      "source": [
        "print(lda_top.shape)  # (no_of_doc,no_of_topics)\n",
        "print(lda_top)\n"
      ]
    },
    {
      "cell_type": "code",
      "execution_count": 36,
      "metadata": {
        "_uuid": "2fc450b8316e62d050eb702b65eddbb1e898248f",
        "id": "YNgP0S0eeVuO",
        "colab": {
          "base_uri": "https://localhost:8080/"
        },
        "outputId": "f7e6094c-126c-4fda-ecdc-f472f45402e8"
      },
      "outputs": [
        {
          "output_type": "stream",
          "name": "stdout",
          "text": [
            "0.9999999999999999\n"
          ]
        }
      ],
      "source": [
        "sum=0\n",
        "for i in lda_top[0]:\n",
        "  sum=sum+i\n",
        "print(sum)  "
      ]
    },
    {
      "cell_type": "markdown",
      "metadata": {
        "_uuid": "0f6d8a55e8a513a9af61ae480eae5a0e2135f182",
        "id": "08NFUE4pKHeJ"
      },
      "source": [
        "Perhatikan bahwa nilai pada baris tertentu ditambahkan ke 1. Ini karena setiap nilai menunjukkan % kontribusi topik terkait dalam dokumen."
      ]
    },
    {
      "cell_type": "code",
      "execution_count": 37,
      "metadata": {
        "_uuid": "d896b8fcf2c398367de4e7b7142e144fb4944f2d",
        "id": "Z6WmZLp3ehbY",
        "colab": {
          "base_uri": "https://localhost:8080/"
        },
        "outputId": "d45dcd47-9de1-4564-c147-9d146220ba23"
      },
      "outputs": [
        {
          "output_type": "stream",
          "name": "stdout",
          "text": [
            "Document 0: \n",
            "Topic  0 :  1.7606057257740977 %\n",
            "Topic  1 :  1.760575117973549 %\n",
            "Topic  2 :  84.15450820165448 %\n",
            "Topic  3 :  1.7606148676643163 %\n",
            "Topic  4 :  1.7606344112773575 %\n",
            "Topic  5 :  1.7606198160863915 %\n",
            "Topic  6 :  1.760618765515936 %\n",
            "Topic  7 :  1.7605961854487249 %\n",
            "Topic  8 :  1.760612515741768 %\n",
            "Topic  9 :  1.7606143928633715 %\n"
          ]
        }
      ],
      "source": [
        "# composition of doc 0 for eg\n",
        "print(\"Document 0: \")\n",
        "for i,topic in enumerate(lda_top[0]):\n",
        "  print(\"Topic \",i,\": \",topic*100,\"%\")"
      ]
    },
    {
      "cell_type": "markdown",
      "metadata": {
        "_uuid": "d24927b415ef64338a4b99e81c9cafd5225dfae5",
        "id": "NVgtw_L_g8N2"
      },
      "source": [
        "Seperti yang kita lihat, Topik 7 & 8 dominan ada di dokumen 0."
      ]
    },
    {
      "cell_type": "code",
      "execution_count": 38,
      "metadata": {
        "_uuid": "3ee132a423ca0bfe3107fa3dd2652d6c33d5bc4d",
        "id": "6OFxmyReiZIU",
        "colab": {
          "base_uri": "https://localhost:8080/"
        },
        "outputId": "3cfd9baa-02a3-498c-ade6-aff0f2b3a988"
      },
      "outputs": [
        {
          "output_type": "stream",
          "name": "stdout",
          "text": [
            "[[0.87031074 0.81813012 0.83015105 ... 0.92735658 0.75631215 0.85980957]\n",
            " [0.92655524 0.87067853 0.62901989 ... 0.82639978 0.85778511 1.05082202]\n",
            " [0.70130931 0.82668702 0.88243736 ... 0.93366641 0.77714305 0.80835129]\n",
            " ...\n",
            " [0.75684554 0.9550319  0.8725001  ... 0.79899847 0.67643369 0.81364776]\n",
            " [0.95147063 0.77533795 0.80687734 ... 0.88485663 0.7956038  0.81234622]\n",
            " [0.75327381 0.78329373 0.94823215 ... 0.93919858 0.6984575  0.72555995]]\n",
            "(10, 1000)\n"
          ]
        }
      ],
      "source": [
        "print(lda_model.components_)\n",
        "print(lda_model.components_.shape)  # (no_of_topics*no_of_words)"
      ]
    },
    {
      "cell_type": "markdown",
      "metadata": {
        "_uuid": "8bf169b07cefbe2cd8e36bc1e2bd65ca7c398374",
        "id": "NoEr9qt1jgsM"
      },
      "source": [
        "Kata-kata paling penting untuk sebuah topik. (katakan 10 kali ini)"
      ]
    },
    {
      "cell_type": "code",
      "execution_count": 39,
      "metadata": {
        "_uuid": "5c13c5563657ac5103a33615272320065542fb40",
        "id": "hKJHM0C-l0an",
        "colab": {
          "base_uri": "https://localhost:8080/"
        },
        "outputId": "efa60cd6-55c5-43ed-9c2a-7275e1c33da7"
      },
      "outputs": [
        {
          "output_type": "stream",
          "name": "stdout",
          "text": [
            "Topic 0: \n",
            "siswa diakses citra produk pengolahan informasi persero manual pengukuran penggunaan \n",
            "\n",
            "Topic 1: \n",
            "pengembangan memilah informasi pemetaan beasiswa mencari mengidentifikasi yogyakarta gari topsis \n",
            "\n",
            "Topic 2: \n",
            "browser sistem shutter transaksi proses gizi status persentase terdistribusi goal \n",
            "\n",
            "Topic 3: \n",
            "tanda subsektor batik terpisah gizi membutuhkan pemahaman kelebihan negeri memasarkan \n",
            "\n",
            "Topic 4: \n",
            "pelanggan pembimbing memperbaharui output periode kendala 10 lazim peraturan jaringan \n",
            "\n",
            "Topic 5: \n",
            "cacat risiko lunak tindak gari sigma perangkat strategy senyum membandingkan \n",
            "\n",
            "Topic 6: \n",
            "game tangan konsumen player sumenep orang karapan mobile perintah peramalan \n",
            "\n",
            "Topic 7: \n",
            "pekerja diambil means malaria memiliki siswa separation lawan time sederhana \n",
            "\n",
            "Topic 8: \n",
            "straw nilai multi preshion manfaat toefl fuzzy pelajaran baku upaya \n",
            "\n",
            "Topic 9: \n",
            "imunisasi deteksi manusia tulisan berfungsi tataletak spare tanaman mengakibatkan peningkatan \n",
            "\n"
          ]
        },
        {
          "output_type": "stream",
          "name": "stderr",
          "text": [
            "/usr/local/lib/python3.7/dist-packages/sklearn/utils/deprecation.py:87: FutureWarning: Function get_feature_names is deprecated; get_feature_names is deprecated in 1.0 and will be removed in 1.2. Please use get_feature_names_out instead.\n",
            "  warnings.warn(msg, category=FutureWarning)\n"
          ]
        }
      ],
      "source": [
        "# most important words for each topic\n",
        "vocab = vect.get_feature_names()\n",
        "\n",
        "for i, comp in enumerate(lda_model.components_):\n",
        "    vocab_comp = zip(vocab, comp)\n",
        "    sorted_words = sorted(vocab_comp, key= lambda x:x[1], reverse=True)[:10]\n",
        "    print(\"Topic \"+str(i)+\": \")\n",
        "    for t in sorted_words:\n",
        "        print(t[0],end=\" \")\n",
        "    print(\"\\n\")"
      ]
    },
    {
      "cell_type": "markdown",
      "metadata": {
        "_uuid": "854f0eb88cf78923db8137a2f41581eb9bbd5592",
        "id": "AoqfjEvJKHeK"
      },
      "source": [
        "Untuk memvisualisasikan kata-kata dalam suatu topik dengan lebih baik, kita dapat melihat kata cloud. Untuk setiap topik, 50 kata teratas diplot."
      ]
    },
    {
      "cell_type": "code",
      "execution_count": 40,
      "metadata": {
        "id": "a72Ubr8tKHeK",
        "colab": {
          "base_uri": "https://localhost:8080/"
        },
        "outputId": "93ccaad2-cc2a-44ed-efde-e8b10e6930ec"
      },
      "outputs": [
        {
          "output_type": "stream",
          "name": "stdout",
          "text": [
            "Looking in indexes: https://pypi.org/simple, https://us-python.pkg.dev/colab-wheels/public/simple/\n",
            "Requirement already satisfied: wordcloud in /usr/local/lib/python3.7/dist-packages (1.5.0)\n",
            "Requirement already satisfied: pillow in /usr/local/lib/python3.7/dist-packages (from wordcloud) (7.1.2)\n",
            "Requirement already satisfied: numpy>=1.6.1 in /usr/local/lib/python3.7/dist-packages (from wordcloud) (1.21.6)\n"
          ]
        }
      ],
      "source": [
        "! pip install wordcloud"
      ]
    },
    {
      "cell_type": "code",
      "execution_count": 41,
      "metadata": {
        "_uuid": "5221ae4de021107ef757b87d45053460e50582c8",
        "id": "_ac73PUhmZmn"
      },
      "outputs": [],
      "source": [
        "from wordcloud import WordCloud\n",
        "# Generate a word cloud image for given topic\n",
        "\n",
        "def draw_word_cloud(index):\n",
        "  imp_words_topic=\"\"\n",
        "  comp=lda_model.components_[index]\n",
        "  vocab_comp = zip(vocab, comp)\n",
        "  sorted_words = sorted(vocab_comp, key= lambda x:x[1], reverse=True)[:50]\n",
        "  for word in sorted_words:\n",
        "    imp_words_topic=imp_words_topic+\" \"+word[0]\n",
        "\n",
        "  wordcloud = WordCloud(width=600, height=400).generate(imp_words_topic)\n",
        "  plt.figure( figsize=(5,5))\n",
        "  plt.imshow(wordcloud)\n",
        "  plt.axis(\"off\")\n",
        "  plt.tight_layout()\n",
        "  plt.show()"
      ]
    },
    {
      "cell_type": "code",
      "execution_count": 42,
      "metadata": {
        "_uuid": "e5246db8bb1b751a1f3b96bb65d4da9e34dfc2ba",
        "id": "-tD4nZdRqnAk",
        "colab": {
          "base_uri": "https://localhost:8080/",
          "height": 254
        },
        "outputId": "75c09929-afde-4ea6-abd4-4f63e6c350b3"
      },
      "outputs": [
        {
          "output_type": "display_data",
          "data": {
            "text/plain": [
              "<Figure size 360x360 with 1 Axes>"
            ],
            "image/png": "[encoded data removed]"
          },
          "metadata": {}
        }
      ],
      "source": [
        "# topic 0\n",
        "draw_word_cloud(0)"
      ]
    },
    {
      "cell_type": "code",
      "execution_count": 43,
      "metadata": {
        "_uuid": "74872c17b12680171090690f62ce77019e03ef52",
        "id": "Jz_zGbSws1ns",
        "colab": {
          "base_uri": "https://localhost:8080/",
          "height": 254
        },
        "outputId": "efc19fca-d3c9-4f75-9907-e8ed54d2ebc8"
      },
      "outputs": [
        {
          "output_type": "display_data",
          "data": {
            "text/plain": [
              "<Figure size 360x360 with 1 Axes>"
            ],
            "image/png": "[encoded data removed]"
          },
          "metadata": {}
        }
      ],
      "source": [
        "# topic 1\n",
        "draw_word_cloud(1)  # ..."
      ]
    }
  ],
  "metadata": {
    "kernelspec": {
      "display_name": "Python 3",
      "language": "python",
      "name": "python3"
    },
    "language_info": {
      "codemirror_mode": {
        "name": "ipython",
        "version": 3
      },
      "file_extension": ".py",
      "mimetype": "text/x-python",
      "name": "python",
      "nbconvert_exporter": "python",
      "pygments_lexer": "ipython3",
      "version": "3.9.0"
    },
    "colab": {
      "name": "190411100114_Venia Anisya Rakhmanda_Modelling LSA.ipynb",
      "provenance": []
    }
  },
  "nbformat": 4,
  "nbformat_minor": 0
}